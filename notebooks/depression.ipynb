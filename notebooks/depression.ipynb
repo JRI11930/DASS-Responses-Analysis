{
 "cells": [
  {
   "cell_type": "markdown",
   "metadata": {},
   "source": [
    "#\n",
    "<h1 style=\"background: linear-gradient(to right, #000, #7509d2); color: white; font-style: italic; padding: 10px 20px; border-radius: 5px; text-align: center;\">\n",
    "    Depression Anxiety Stress Scales Responses\n",
    "</h1>"
   ]
  },
  {
   "cell_type": "markdown",
   "metadata": {},
   "source": [
    "<div style=\"text-align: center;\">\n",
    "    <img src=\"./psychology image.jpg\" style=\"max-width: 100%; height: auto;\">\n",
    "</div>\n",
    "\n",
    "\n",
    "The DASS is a measurement instrument that was developed with the aim of measuring depression, anxiety, and stress in people. It was created by Sydney and Peter Lovibond in the 1990s. <br>\n",
    "This test was developed while researchers were looking for more accurate tools that could help measure not only depression and anxiety, but also stress.\n",
    "\n",
    "The possible applications of this test are as follows:\n",
    "\n",
    "- **Clinical research**: This test could help determine the persistence of depressive symptoms during or without treatment. <br>\n",
    "- **Specific populations**: It can be used in work, educational, etc. settings to identify people who may benefit from further psychological assessment.\n",
    "\n",
    "While the DASS measures depression, anxiety, and stress, one of the intriguing findings is how these three emotional states can overlap in the responses of individuals. However, the DASS is designed to identify the specific characteristics of each state. The scale has also been translated and adapted to numerous languages ​​and cultures, and has been validated in diverse international populations, making it a very versatile instrument. Interestingly, the DASS has found applications in the educational field of some countries, where it has been used to assess the emotional well-being of university students, providing valuable data for preventive and supportive mental health interventions.\n",
    "\n",
    "The data used in this notebook was obtained from [Kaggle](https://www.kaggle.com/datasets/lucasgreenwell/depression-anxiety-stress-scales-responses?select=codebook.txt)"
   ]
  },
  {
   "cell_type": "markdown",
   "metadata": {},
   "source": [
    "##\n",
    "<h2 style=\"background: linear-gradient(to right, #000, #9b45e4); color: white; font-style: italic; padding: 10px 20px; border-radius: 5px; text-align: center;\">\n",
    "    💡 Hypothesis & Relevant questions 💡\n",
    "</h2>"
   ]
  },
  {
   "cell_type": "markdown",
   "metadata": {},
   "source": [
    "As a starting hypothesis we will take the following:\n",
    "- The depression scale is correlated with the marital status of people\n",
    "- Teenagers are the ones who present the most anxiety symptoms\n",
    "- Religion determines the stress scales\n",
    "\n",
    "Some interesting questions here are:\n",
    "- Does the skilled hand correlate with stress?\n",
    "- Which is the most depressive gender? And at what age?"
   ]
  },
  {
   "cell_type": "markdown",
   "metadata": {},
   "source": [
    "##\n",
    "<h2 style=\"background: linear-gradient(to right, #000, #9b45e4); color: white; font-style: italic; padding: 10px 20px; border-radius: 5px; text-align: center;\">\n",
    "    🗃️ Imports 🗃️\n",
    "</h2>"
   ]
  },
  {
   "cell_type": "code",
   "execution_count": 1,
   "metadata": {},
   "outputs": [],
   "source": [
    "import pandas as pd \n",
    "import numpy as np \n",
    "import matplotlib.pyplot as plt\n",
    "import seaborn as sns"
   ]
  },
  {
   "cell_type": "code",
   "execution_count": 2,
   "metadata": {},
   "outputs": [],
   "source": [
    "def sshape(x):\n",
    "    print(f\"The dataframe has {x.shape[0]} rows & {x.shape[1]} columns\")"
   ]
  },
  {
   "cell_type": "markdown",
   "metadata": {},
   "source": [
    "##\n",
    "<h2 style=\"background: linear-gradient(to right, #000, #9b45e4); color: white; font-style: italic; padding: 10px 20px; border-radius: 5px; text-align: center;\">\n",
    "    🔍 Data Collection 🔍\n",
    "</h2>"
   ]
  },
  {
   "cell_type": "code",
   "execution_count": 3,
   "metadata": {},
   "outputs": [
    {
     "data": {
      "text/html": [
       "<div>\n",
       "<style scoped>\n",
       "    .dataframe tbody tr th:only-of-type {\n",
       "        vertical-align: middle;\n",
       "    }\n",
       "\n",
       "    .dataframe tbody tr th {\n",
       "        vertical-align: top;\n",
       "    }\n",
       "\n",
       "    .dataframe thead th {\n",
       "        text-align: right;\n",
       "    }\n",
       "</style>\n",
       "<table border=\"1\" class=\"dataframe\">\n",
       "  <thead>\n",
       "    <tr style=\"text-align: right;\">\n",
       "      <th></th>\n",
       "      <th>Q1A</th>\n",
       "      <th>Q1I</th>\n",
       "      <th>Q1E</th>\n",
       "      <th>Q2A</th>\n",
       "      <th>Q2I</th>\n",
       "      <th>Q2E</th>\n",
       "      <th>Q3A</th>\n",
       "      <th>Q3I</th>\n",
       "      <th>Q3E</th>\n",
       "      <th>Q4A</th>\n",
       "      <th>...</th>\n",
       "      <th>screensize</th>\n",
       "      <th>uniquenetworklocation</th>\n",
       "      <th>hand</th>\n",
       "      <th>religion</th>\n",
       "      <th>orientation</th>\n",
       "      <th>race</th>\n",
       "      <th>voted</th>\n",
       "      <th>married</th>\n",
       "      <th>familysize</th>\n",
       "      <th>major</th>\n",
       "    </tr>\n",
       "  </thead>\n",
       "  <tbody>\n",
       "    <tr>\n",
       "      <th>0</th>\n",
       "      <td>4</td>\n",
       "      <td>28</td>\n",
       "      <td>3890</td>\n",
       "      <td>4</td>\n",
       "      <td>25</td>\n",
       "      <td>2122</td>\n",
       "      <td>2</td>\n",
       "      <td>16</td>\n",
       "      <td>1944</td>\n",
       "      <td>4</td>\n",
       "      <td>...</td>\n",
       "      <td>1</td>\n",
       "      <td>1</td>\n",
       "      <td>1</td>\n",
       "      <td>12</td>\n",
       "      <td>1</td>\n",
       "      <td>10</td>\n",
       "      <td>2</td>\n",
       "      <td>1</td>\n",
       "      <td>2</td>\n",
       "      <td>NaN</td>\n",
       "    </tr>\n",
       "    <tr>\n",
       "      <th>1</th>\n",
       "      <td>4</td>\n",
       "      <td>2</td>\n",
       "      <td>8118</td>\n",
       "      <td>1</td>\n",
       "      <td>36</td>\n",
       "      <td>2890</td>\n",
       "      <td>2</td>\n",
       "      <td>35</td>\n",
       "      <td>4777</td>\n",
       "      <td>3</td>\n",
       "      <td>...</td>\n",
       "      <td>2</td>\n",
       "      <td>1</td>\n",
       "      <td>2</td>\n",
       "      <td>7</td>\n",
       "      <td>0</td>\n",
       "      <td>70</td>\n",
       "      <td>2</td>\n",
       "      <td>1</td>\n",
       "      <td>4</td>\n",
       "      <td>NaN</td>\n",
       "    </tr>\n",
       "    <tr>\n",
       "      <th>2</th>\n",
       "      <td>3</td>\n",
       "      <td>7</td>\n",
       "      <td>5784</td>\n",
       "      <td>1</td>\n",
       "      <td>33</td>\n",
       "      <td>4373</td>\n",
       "      <td>4</td>\n",
       "      <td>41</td>\n",
       "      <td>3242</td>\n",
       "      <td>1</td>\n",
       "      <td>...</td>\n",
       "      <td>2</td>\n",
       "      <td>1</td>\n",
       "      <td>1</td>\n",
       "      <td>4</td>\n",
       "      <td>3</td>\n",
       "      <td>60</td>\n",
       "      <td>1</td>\n",
       "      <td>1</td>\n",
       "      <td>3</td>\n",
       "      <td>NaN</td>\n",
       "    </tr>\n",
       "    <tr>\n",
       "      <th>3</th>\n",
       "      <td>2</td>\n",
       "      <td>23</td>\n",
       "      <td>5081</td>\n",
       "      <td>3</td>\n",
       "      <td>11</td>\n",
       "      <td>6837</td>\n",
       "      <td>2</td>\n",
       "      <td>37</td>\n",
       "      <td>5521</td>\n",
       "      <td>1</td>\n",
       "      <td>...</td>\n",
       "      <td>2</td>\n",
       "      <td>1</td>\n",
       "      <td>2</td>\n",
       "      <td>4</td>\n",
       "      <td>5</td>\n",
       "      <td>70</td>\n",
       "      <td>2</td>\n",
       "      <td>1</td>\n",
       "      <td>5</td>\n",
       "      <td>biology</td>\n",
       "    </tr>\n",
       "    <tr>\n",
       "      <th>4</th>\n",
       "      <td>2</td>\n",
       "      <td>36</td>\n",
       "      <td>3215</td>\n",
       "      <td>2</td>\n",
       "      <td>13</td>\n",
       "      <td>7731</td>\n",
       "      <td>3</td>\n",
       "      <td>5</td>\n",
       "      <td>4156</td>\n",
       "      <td>4</td>\n",
       "      <td>...</td>\n",
       "      <td>2</td>\n",
       "      <td>2</td>\n",
       "      <td>3</td>\n",
       "      <td>10</td>\n",
       "      <td>1</td>\n",
       "      <td>10</td>\n",
       "      <td>2</td>\n",
       "      <td>1</td>\n",
       "      <td>4</td>\n",
       "      <td>Psychology</td>\n",
       "    </tr>\n",
       "  </tbody>\n",
       "</table>\n",
       "<p>5 rows × 172 columns</p>\n",
       "</div>"
      ],
      "text/plain": [
       "   Q1A  Q1I   Q1E  Q2A  Q2I   Q2E  Q3A  Q3I   Q3E  Q4A  ...  screensize  \\\n",
       "0    4   28  3890    4   25  2122    2   16  1944    4  ...           1   \n",
       "1    4    2  8118    1   36  2890    2   35  4777    3  ...           2   \n",
       "2    3    7  5784    1   33  4373    4   41  3242    1  ...           2   \n",
       "3    2   23  5081    3   11  6837    2   37  5521    1  ...           2   \n",
       "4    2   36  3215    2   13  7731    3    5  4156    4  ...           2   \n",
       "\n",
       "   uniquenetworklocation  hand  religion  orientation  race  voted  married  \\\n",
       "0                      1     1        12            1    10      2        1   \n",
       "1                      1     2         7            0    70      2        1   \n",
       "2                      1     1         4            3    60      1        1   \n",
       "3                      1     2         4            5    70      2        1   \n",
       "4                      2     3        10            1    10      2        1   \n",
       "\n",
       "   familysize       major  \n",
       "0           2         NaN  \n",
       "1           4         NaN  \n",
       "2           3         NaN  \n",
       "3           5     biology  \n",
       "4           4  Psychology  \n",
       "\n",
       "[5 rows x 172 columns]"
      ]
     },
     "execution_count": 3,
     "metadata": {},
     "output_type": "execute_result"
    }
   ],
   "source": [
    "df = pd.read_csv('../data/depression/data.csv', delimiter='\\t')\n",
    "df.head()"
   ]
  },
  {
   "cell_type": "code",
   "execution_count": 4,
   "metadata": {},
   "outputs": [
    {
     "name": "stdout",
     "output_type": "stream",
     "text": [
      "We have a dataset of 39775 rows and 172 columns\n"
     ]
    }
   ],
   "source": [
    "print(f\"We have a dataset of {df.shape[0]} rows and {df.shape[1]} columns\")"
   ]
  },
  {
   "cell_type": "code",
   "execution_count": 5,
   "metadata": {},
   "outputs": [
    {
     "data": {
      "text/html": [
       "<div>\n",
       "<style scoped>\n",
       "    .dataframe tbody tr th:only-of-type {\n",
       "        vertical-align: middle;\n",
       "    }\n",
       "\n",
       "    .dataframe tbody tr th {\n",
       "        vertical-align: top;\n",
       "    }\n",
       "\n",
       "    .dataframe thead th {\n",
       "        text-align: right;\n",
       "    }\n",
       "</style>\n",
       "<table border=\"1\" class=\"dataframe\">\n",
       "  <thead>\n",
       "    <tr style=\"text-align: right;\">\n",
       "      <th></th>\n",
       "      <th>Q1A</th>\n",
       "      <th>Q1I</th>\n",
       "      <th>Q1E</th>\n",
       "      <th>Q2A</th>\n",
       "      <th>Q2I</th>\n",
       "      <th>Q2E</th>\n",
       "      <th>Q3A</th>\n",
       "      <th>Q3I</th>\n",
       "      <th>Q3E</th>\n",
       "      <th>Q4A</th>\n",
       "      <th>...</th>\n",
       "      <th>age</th>\n",
       "      <th>screensize</th>\n",
       "      <th>uniquenetworklocation</th>\n",
       "      <th>hand</th>\n",
       "      <th>religion</th>\n",
       "      <th>orientation</th>\n",
       "      <th>race</th>\n",
       "      <th>voted</th>\n",
       "      <th>married</th>\n",
       "      <th>familysize</th>\n",
       "    </tr>\n",
       "  </thead>\n",
       "  <tbody>\n",
       "    <tr>\n",
       "      <th>count</th>\n",
       "      <td>39775.00</td>\n",
       "      <td>39775.00</td>\n",
       "      <td>39775.00</td>\n",
       "      <td>39775.00</td>\n",
       "      <td>39775.00</td>\n",
       "      <td>39775.00</td>\n",
       "      <td>39775.00</td>\n",
       "      <td>39775.00</td>\n",
       "      <td>39775.00</td>\n",
       "      <td>39775.00</td>\n",
       "      <td>...</td>\n",
       "      <td>39775.00</td>\n",
       "      <td>39775.00</td>\n",
       "      <td>39775.0</td>\n",
       "      <td>39775.00</td>\n",
       "      <td>39775.00</td>\n",
       "      <td>39775.00</td>\n",
       "      <td>39775.00</td>\n",
       "      <td>39775.00</td>\n",
       "      <td>39775.00</td>\n",
       "      <td>39775.00</td>\n",
       "    </tr>\n",
       "    <tr>\n",
       "      <th>mean</th>\n",
       "      <td>2.62</td>\n",
       "      <td>21.56</td>\n",
       "      <td>6970.59</td>\n",
       "      <td>2.17</td>\n",
       "      <td>21.25</td>\n",
       "      <td>5332.38</td>\n",
       "      <td>2.23</td>\n",
       "      <td>21.58</td>\n",
       "      <td>7426.45</td>\n",
       "      <td>1.95</td>\n",
       "      <td>...</td>\n",
       "      <td>23.61</td>\n",
       "      <td>1.27</td>\n",
       "      <td>1.2</td>\n",
       "      <td>1.14</td>\n",
       "      <td>7.56</td>\n",
       "      <td>1.64</td>\n",
       "      <td>31.31</td>\n",
       "      <td>1.71</td>\n",
       "      <td>1.16</td>\n",
       "      <td>3.51</td>\n",
       "    </tr>\n",
       "    <tr>\n",
       "      <th>std</th>\n",
       "      <td>1.03</td>\n",
       "      <td>12.13</td>\n",
       "      <td>86705.13</td>\n",
       "      <td>1.11</td>\n",
       "      <td>12.13</td>\n",
       "      <td>26513.61</td>\n",
       "      <td>1.04</td>\n",
       "      <td>12.12</td>\n",
       "      <td>158702.35</td>\n",
       "      <td>1.04</td>\n",
       "      <td>...</td>\n",
       "      <td>21.58</td>\n",
       "      <td>0.45</td>\n",
       "      <td>0.4</td>\n",
       "      <td>0.40</td>\n",
       "      <td>3.55</td>\n",
       "      <td>1.35</td>\n",
       "      <td>25.87</td>\n",
       "      <td>0.47</td>\n",
       "      <td>0.45</td>\n",
       "      <td>2.14</td>\n",
       "    </tr>\n",
       "    <tr>\n",
       "      <th>min</th>\n",
       "      <td>1.00</td>\n",
       "      <td>1.00</td>\n",
       "      <td>180.00</td>\n",
       "      <td>1.00</td>\n",
       "      <td>1.00</td>\n",
       "      <td>176.00</td>\n",
       "      <td>1.00</td>\n",
       "      <td>1.00</td>\n",
       "      <td>-10814.00</td>\n",
       "      <td>1.00</td>\n",
       "      <td>...</td>\n",
       "      <td>13.00</td>\n",
       "      <td>1.00</td>\n",
       "      <td>1.0</td>\n",
       "      <td>0.00</td>\n",
       "      <td>0.00</td>\n",
       "      <td>0.00</td>\n",
       "      <td>10.00</td>\n",
       "      <td>0.00</td>\n",
       "      <td>0.00</td>\n",
       "      <td>0.00</td>\n",
       "    </tr>\n",
       "    <tr>\n",
       "      <th>25%</th>\n",
       "      <td>2.00</td>\n",
       "      <td>11.00</td>\n",
       "      <td>2664.00</td>\n",
       "      <td>1.00</td>\n",
       "      <td>11.00</td>\n",
       "      <td>2477.00</td>\n",
       "      <td>1.00</td>\n",
       "      <td>11.00</td>\n",
       "      <td>2857.00</td>\n",
       "      <td>1.00</td>\n",
       "      <td>...</td>\n",
       "      <td>18.00</td>\n",
       "      <td>1.00</td>\n",
       "      <td>1.0</td>\n",
       "      <td>1.00</td>\n",
       "      <td>4.00</td>\n",
       "      <td>1.00</td>\n",
       "      <td>10.00</td>\n",
       "      <td>1.00</td>\n",
       "      <td>1.00</td>\n",
       "      <td>2.00</td>\n",
       "    </tr>\n",
       "    <tr>\n",
       "      <th>50%</th>\n",
       "      <td>3.00</td>\n",
       "      <td>22.00</td>\n",
       "      <td>3609.00</td>\n",
       "      <td>2.00</td>\n",
       "      <td>21.00</td>\n",
       "      <td>3511.00</td>\n",
       "      <td>2.00</td>\n",
       "      <td>22.00</td>\n",
       "      <td>3898.00</td>\n",
       "      <td>2.00</td>\n",
       "      <td>...</td>\n",
       "      <td>21.00</td>\n",
       "      <td>1.00</td>\n",
       "      <td>1.0</td>\n",
       "      <td>1.00</td>\n",
       "      <td>10.00</td>\n",
       "      <td>1.00</td>\n",
       "      <td>10.00</td>\n",
       "      <td>2.00</td>\n",
       "      <td>1.00</td>\n",
       "      <td>3.00</td>\n",
       "    </tr>\n",
       "    <tr>\n",
       "      <th>75%</th>\n",
       "      <td>4.00</td>\n",
       "      <td>32.00</td>\n",
       "      <td>5358.00</td>\n",
       "      <td>3.00</td>\n",
       "      <td>32.00</td>\n",
       "      <td>5216.00</td>\n",
       "      <td>3.00</td>\n",
       "      <td>32.00</td>\n",
       "      <td>5766.00</td>\n",
       "      <td>3.00</td>\n",
       "      <td>...</td>\n",
       "      <td>25.00</td>\n",
       "      <td>2.00</td>\n",
       "      <td>1.0</td>\n",
       "      <td>1.00</td>\n",
       "      <td>10.00</td>\n",
       "      <td>2.00</td>\n",
       "      <td>60.00</td>\n",
       "      <td>2.00</td>\n",
       "      <td>1.00</td>\n",
       "      <td>4.00</td>\n",
       "    </tr>\n",
       "    <tr>\n",
       "      <th>max</th>\n",
       "      <td>4.00</td>\n",
       "      <td>42.00</td>\n",
       "      <td>12102282.00</td>\n",
       "      <td>4.00</td>\n",
       "      <td>42.00</td>\n",
       "      <td>2161057.00</td>\n",
       "      <td>4.00</td>\n",
       "      <td>42.00</td>\n",
       "      <td>28582689.00</td>\n",
       "      <td>4.00</td>\n",
       "      <td>...</td>\n",
       "      <td>1998.00</td>\n",
       "      <td>2.00</td>\n",
       "      <td>2.0</td>\n",
       "      <td>3.00</td>\n",
       "      <td>12.00</td>\n",
       "      <td>5.00</td>\n",
       "      <td>70.00</td>\n",
       "      <td>2.00</td>\n",
       "      <td>3.00</td>\n",
       "      <td>133.00</td>\n",
       "    </tr>\n",
       "  </tbody>\n",
       "</table>\n",
       "<p>8 rows × 170 columns</p>\n",
       "</div>"
      ],
      "text/plain": [
       "            Q1A       Q1I          Q1E       Q2A       Q2I         Q2E  \\\n",
       "count  39775.00  39775.00     39775.00  39775.00  39775.00    39775.00   \n",
       "mean       2.62     21.56      6970.59      2.17     21.25     5332.38   \n",
       "std        1.03     12.13     86705.13      1.11     12.13    26513.61   \n",
       "min        1.00      1.00       180.00      1.00      1.00      176.00   \n",
       "25%        2.00     11.00      2664.00      1.00     11.00     2477.00   \n",
       "50%        3.00     22.00      3609.00      2.00     21.00     3511.00   \n",
       "75%        4.00     32.00      5358.00      3.00     32.00     5216.00   \n",
       "max        4.00     42.00  12102282.00      4.00     42.00  2161057.00   \n",
       "\n",
       "            Q3A       Q3I          Q3E       Q4A  ...       age  screensize  \\\n",
       "count  39775.00  39775.00     39775.00  39775.00  ...  39775.00    39775.00   \n",
       "mean       2.23     21.58      7426.45      1.95  ...     23.61        1.27   \n",
       "std        1.04     12.12    158702.35      1.04  ...     21.58        0.45   \n",
       "min        1.00      1.00    -10814.00      1.00  ...     13.00        1.00   \n",
       "25%        1.00     11.00      2857.00      1.00  ...     18.00        1.00   \n",
       "50%        2.00     22.00      3898.00      2.00  ...     21.00        1.00   \n",
       "75%        3.00     32.00      5766.00      3.00  ...     25.00        2.00   \n",
       "max        4.00     42.00  28582689.00      4.00  ...   1998.00        2.00   \n",
       "\n",
       "       uniquenetworklocation      hand  religion  orientation      race  \\\n",
       "count                39775.0  39775.00  39775.00     39775.00  39775.00   \n",
       "mean                     1.2      1.14      7.56         1.64     31.31   \n",
       "std                      0.4      0.40      3.55         1.35     25.87   \n",
       "min                      1.0      0.00      0.00         0.00     10.00   \n",
       "25%                      1.0      1.00      4.00         1.00     10.00   \n",
       "50%                      1.0      1.00     10.00         1.00     10.00   \n",
       "75%                      1.0      1.00     10.00         2.00     60.00   \n",
       "max                      2.0      3.00     12.00         5.00     70.00   \n",
       "\n",
       "          voted   married  familysize  \n",
       "count  39775.00  39775.00    39775.00  \n",
       "mean       1.71      1.16        3.51  \n",
       "std        0.47      0.45        2.14  \n",
       "min        0.00      0.00        0.00  \n",
       "25%        1.00      1.00        2.00  \n",
       "50%        2.00      1.00        3.00  \n",
       "75%        2.00      1.00        4.00  \n",
       "max        2.00      3.00      133.00  \n",
       "\n",
       "[8 rows x 170 columns]"
      ]
     },
     "execution_count": 5,
     "metadata": {},
     "output_type": "execute_result"
    }
   ],
   "source": [
    "df.describe().round(2)"
   ]
  },
  {
   "cell_type": "code",
   "execution_count": 6,
   "metadata": {},
   "outputs": [
    {
     "data": {
      "text/plain": [
       "Q1A               0\n",
       "Q1I               0\n",
       "Q1E               0\n",
       "Q2A               0\n",
       "Q2I               0\n",
       "              ...  \n",
       "race              0\n",
       "voted             0\n",
       "married           0\n",
       "familysize        0\n",
       "major         11425\n",
       "Length: 172, dtype: int64"
      ]
     },
     "execution_count": 6,
     "metadata": {},
     "output_type": "execute_result"
    }
   ],
   "source": [
    "df.isnull().sum()"
   ]
  },
  {
   "cell_type": "markdown",
   "metadata": {},
   "source": [
    "Note the presence of outliers in the dataset. <br>\n",
    "The minimum value of the column `Q3E`, for example, is unusual, as it is a large negative value. This value should be investigated further. <br>\n",
    "Also, the maximum value of the column `age` is 1998, which is impossible and should be treated individually."
   ]
  },
  {
   "cell_type": "markdown",
   "metadata": {},
   "source": [
    "##\n",
    "<h2 style=\"background: linear-gradient(to right, #000, #9b45e4); color: white; font-style: italic; padding: 10px 20px; border-radius: 5px; text-align: center;\">\n",
    "    ⚙️ Data Manipulation ⚙️\n",
    "</h2>"
   ]
  },
  {
   "cell_type": "markdown",
   "metadata": {},
   "source": [
    "As in the questionnaire there are some questions that help us to determine the validity of an answer we can start from there and filter the valid answers only "
   ]
  },
  {
   "cell_type": "code",
   "execution_count": 7,
   "metadata": {},
   "outputs": [
    {
     "name": "stdout",
     "output_type": "stream",
     "text": [
      "1598 registers will be deleted\n",
      "1716 registers will be deleted\n",
      "3352 registers will be deleted\n",
      "6666 registers were deleted due to the validity check\n"
     ]
    }
   ],
   "source": [
    "df2 = df        #df2 will be the dataframe copy that we are going to use to perform the EDA \n",
    "total = 0\n",
    "for i in [6, 9, 12]:\n",
    "    q = 'VCL'+ str(i)\n",
    "    n = df.loc[df[q] == 1].index.shape[0]\n",
    "    print(f\"{n} registers will be deleted\")\n",
    "    df2 = df2.drop(df2.loc[df[q] == 1].index, axis=0) \n",
    "    total += n\n",
    "print(f\"{total} registers were deleted due to the validity check\")"
   ]
  },
  {
   "cell_type": "code",
   "execution_count": 8,
   "metadata": {},
   "outputs": [
    {
     "name": "stdout",
     "output_type": "stream",
     "text": [
      "The dataframe has 34583 rows & 172 columns\n"
     ]
    }
   ],
   "source": [
    "sshape(df2)"
   ]
  },
  {
   "cell_type": "markdown",
   "metadata": {},
   "source": [
    "Now let's separate the columns that we will use for the EDA"
   ]
  },
  {
   "cell_type": "code",
   "execution_count": 9,
   "metadata": {},
   "outputs": [
    {
     "data": {
      "text/html": [
       "<div>\n",
       "<style scoped>\n",
       "    .dataframe tbody tr th:only-of-type {\n",
       "        vertical-align: middle;\n",
       "    }\n",
       "\n",
       "    .dataframe tbody tr th {\n",
       "        vertical-align: top;\n",
       "    }\n",
       "\n",
       "    .dataframe thead th {\n",
       "        text-align: right;\n",
       "    }\n",
       "</style>\n",
       "<table border=\"1\" class=\"dataframe\">\n",
       "  <thead>\n",
       "    <tr style=\"text-align: right;\">\n",
       "      <th></th>\n",
       "      <th>country</th>\n",
       "      <th>source</th>\n",
       "      <th>introelapse</th>\n",
       "      <th>testelapse</th>\n",
       "      <th>surveyelapse</th>\n",
       "      <th>education</th>\n",
       "      <th>urban</th>\n",
       "      <th>gender</th>\n",
       "      <th>age</th>\n",
       "      <th>hand</th>\n",
       "      <th>religion</th>\n",
       "      <th>orientation</th>\n",
       "      <th>race</th>\n",
       "      <th>married</th>\n",
       "      <th>familysize</th>\n",
       "      <th>major</th>\n",
       "    </tr>\n",
       "  </thead>\n",
       "  <tbody>\n",
       "    <tr>\n",
       "      <th>0</th>\n",
       "      <td>IN</td>\n",
       "      <td>2</td>\n",
       "      <td>19</td>\n",
       "      <td>167</td>\n",
       "      <td>166</td>\n",
       "      <td>2</td>\n",
       "      <td>3</td>\n",
       "      <td>2</td>\n",
       "      <td>16</td>\n",
       "      <td>1</td>\n",
       "      <td>12</td>\n",
       "      <td>1</td>\n",
       "      <td>10</td>\n",
       "      <td>1</td>\n",
       "      <td>2</td>\n",
       "      <td>NaN</td>\n",
       "    </tr>\n",
       "    <tr>\n",
       "      <th>1</th>\n",
       "      <td>US</td>\n",
       "      <td>2</td>\n",
       "      <td>1</td>\n",
       "      <td>193</td>\n",
       "      <td>186</td>\n",
       "      <td>2</td>\n",
       "      <td>3</td>\n",
       "      <td>2</td>\n",
       "      <td>16</td>\n",
       "      <td>2</td>\n",
       "      <td>7</td>\n",
       "      <td>0</td>\n",
       "      <td>70</td>\n",
       "      <td>1</td>\n",
       "      <td>4</td>\n",
       "      <td>NaN</td>\n",
       "    </tr>\n",
       "    <tr>\n",
       "      <th>2</th>\n",
       "      <td>PL</td>\n",
       "      <td>2</td>\n",
       "      <td>5</td>\n",
       "      <td>271</td>\n",
       "      <td>122</td>\n",
       "      <td>2</td>\n",
       "      <td>3</td>\n",
       "      <td>2</td>\n",
       "      <td>17</td>\n",
       "      <td>1</td>\n",
       "      <td>4</td>\n",
       "      <td>3</td>\n",
       "      <td>60</td>\n",
       "      <td>1</td>\n",
       "      <td>3</td>\n",
       "      <td>NaN</td>\n",
       "    </tr>\n",
       "    <tr>\n",
       "      <th>3</th>\n",
       "      <td>US</td>\n",
       "      <td>2</td>\n",
       "      <td>3</td>\n",
       "      <td>261</td>\n",
       "      <td>336</td>\n",
       "      <td>1</td>\n",
       "      <td>3</td>\n",
       "      <td>2</td>\n",
       "      <td>13</td>\n",
       "      <td>2</td>\n",
       "      <td>4</td>\n",
       "      <td>5</td>\n",
       "      <td>70</td>\n",
       "      <td>1</td>\n",
       "      <td>5</td>\n",
       "      <td>biology</td>\n",
       "    </tr>\n",
       "    <tr>\n",
       "      <th>4</th>\n",
       "      <td>MY</td>\n",
       "      <td>2</td>\n",
       "      <td>1766</td>\n",
       "      <td>164</td>\n",
       "      <td>157</td>\n",
       "      <td>3</td>\n",
       "      <td>2</td>\n",
       "      <td>2</td>\n",
       "      <td>19</td>\n",
       "      <td>3</td>\n",
       "      <td>10</td>\n",
       "      <td>1</td>\n",
       "      <td>10</td>\n",
       "      <td>1</td>\n",
       "      <td>4</td>\n",
       "      <td>Psychology</td>\n",
       "    </tr>\n",
       "    <tr>\n",
       "      <th>...</th>\n",
       "      <td>...</td>\n",
       "      <td>...</td>\n",
       "      <td>...</td>\n",
       "      <td>...</td>\n",
       "      <td>...</td>\n",
       "      <td>...</td>\n",
       "      <td>...</td>\n",
       "      <td>...</td>\n",
       "      <td>...</td>\n",
       "      <td>...</td>\n",
       "      <td>...</td>\n",
       "      <td>...</td>\n",
       "      <td>...</td>\n",
       "      <td>...</td>\n",
       "      <td>...</td>\n",
       "      <td>...</td>\n",
       "    </tr>\n",
       "    <tr>\n",
       "      <th>39769</th>\n",
       "      <td>US</td>\n",
       "      <td>2</td>\n",
       "      <td>2</td>\n",
       "      <td>300</td>\n",
       "      <td>234</td>\n",
       "      <td>1</td>\n",
       "      <td>2</td>\n",
       "      <td>2</td>\n",
       "      <td>16</td>\n",
       "      <td>1</td>\n",
       "      <td>1</td>\n",
       "      <td>1</td>\n",
       "      <td>70</td>\n",
       "      <td>1</td>\n",
       "      <td>3</td>\n",
       "      <td>NaN</td>\n",
       "    </tr>\n",
       "    <tr>\n",
       "      <th>39770</th>\n",
       "      <td>GB</td>\n",
       "      <td>2</td>\n",
       "      <td>7</td>\n",
       "      <td>143</td>\n",
       "      <td>66</td>\n",
       "      <td>2</td>\n",
       "      <td>2</td>\n",
       "      <td>1</td>\n",
       "      <td>16</td>\n",
       "      <td>1</td>\n",
       "      <td>2</td>\n",
       "      <td>4</td>\n",
       "      <td>60</td>\n",
       "      <td>1</td>\n",
       "      <td>2</td>\n",
       "      <td>NaN</td>\n",
       "    </tr>\n",
       "    <tr>\n",
       "      <th>39772</th>\n",
       "      <td>US</td>\n",
       "      <td>0</td>\n",
       "      <td>12</td>\n",
       "      <td>246</td>\n",
       "      <td>257</td>\n",
       "      <td>3</td>\n",
       "      <td>2</td>\n",
       "      <td>2</td>\n",
       "      <td>48</td>\n",
       "      <td>1</td>\n",
       "      <td>7</td>\n",
       "      <td>1</td>\n",
       "      <td>30</td>\n",
       "      <td>2</td>\n",
       "      <td>3</td>\n",
       "      <td>Computer Science</td>\n",
       "    </tr>\n",
       "    <tr>\n",
       "      <th>39773</th>\n",
       "      <td>US</td>\n",
       "      <td>2</td>\n",
       "      <td>2</td>\n",
       "      <td>174</td>\n",
       "      <td>113</td>\n",
       "      <td>3</td>\n",
       "      <td>2</td>\n",
       "      <td>2</td>\n",
       "      <td>20</td>\n",
       "      <td>1</td>\n",
       "      <td>6</td>\n",
       "      <td>1</td>\n",
       "      <td>60</td>\n",
       "      <td>1</td>\n",
       "      <td>2</td>\n",
       "      <td>History</td>\n",
       "    </tr>\n",
       "    <tr>\n",
       "      <th>39774</th>\n",
       "      <td>MY</td>\n",
       "      <td>1</td>\n",
       "      <td>17</td>\n",
       "      <td>427</td>\n",
       "      <td>371</td>\n",
       "      <td>3</td>\n",
       "      <td>3</td>\n",
       "      <td>2</td>\n",
       "      <td>26</td>\n",
       "      <td>1</td>\n",
       "      <td>10</td>\n",
       "      <td>1</td>\n",
       "      <td>10</td>\n",
       "      <td>1</td>\n",
       "      <td>4</td>\n",
       "      <td>Cognitive Science</td>\n",
       "    </tr>\n",
       "  </tbody>\n",
       "</table>\n",
       "<p>34583 rows × 16 columns</p>\n",
       "</div>"
      ],
      "text/plain": [
       "      country  source  introelapse  testelapse  surveyelapse  education  \\\n",
       "0          IN       2           19         167           166          2   \n",
       "1          US       2            1         193           186          2   \n",
       "2          PL       2            5         271           122          2   \n",
       "3          US       2            3         261           336          1   \n",
       "4          MY       2         1766         164           157          3   \n",
       "...       ...     ...          ...         ...           ...        ...   \n",
       "39769      US       2            2         300           234          1   \n",
       "39770      GB       2            7         143            66          2   \n",
       "39772      US       0           12         246           257          3   \n",
       "39773      US       2            2         174           113          3   \n",
       "39774      MY       1           17         427           371          3   \n",
       "\n",
       "       urban  gender  age  hand  religion  orientation  race  married  \\\n",
       "0          3       2   16     1        12            1    10        1   \n",
       "1          3       2   16     2         7            0    70        1   \n",
       "2          3       2   17     1         4            3    60        1   \n",
       "3          3       2   13     2         4            5    70        1   \n",
       "4          2       2   19     3        10            1    10        1   \n",
       "...      ...     ...  ...   ...       ...          ...   ...      ...   \n",
       "39769      2       2   16     1         1            1    70        1   \n",
       "39770      2       1   16     1         2            4    60        1   \n",
       "39772      2       2   48     1         7            1    30        2   \n",
       "39773      2       2   20     1         6            1    60        1   \n",
       "39774      3       2   26     1        10            1    10        1   \n",
       "\n",
       "       familysize              major  \n",
       "0               2                NaN  \n",
       "1               4                NaN  \n",
       "2               3                NaN  \n",
       "3               5            biology  \n",
       "4               4         Psychology  \n",
       "...           ...                ...  \n",
       "39769           3                NaN  \n",
       "39770           2                NaN  \n",
       "39772           3   Computer Science  \n",
       "39773           2            History  \n",
       "39774           4  Cognitive Science  \n",
       "\n",
       "[34583 rows x 16 columns]"
      ]
     },
     "execution_count": 9,
     "metadata": {},
     "output_type": "execute_result"
    }
   ],
   "source": [
    "exclude = [f'Q{i}A' for i in range(1,43)]\n",
    "exclude.extend([f'Q{i}I' for i in range(1,43)])\n",
    "exclude.extend([f'Q{i}E' for i in range(1,43)])\n",
    "\n",
    "exclude.extend([f'VCL{i}' for i in range(1, 17)])\n",
    "\n",
    "# We'll let the Ten Item Personality Inventory for a later analysis\n",
    "exclude.extend([f'TIPI{i}' for i in range(1,11)])\n",
    "\n",
    "exclude.extend(['engnat', 'screensize', 'uniquenetworklocation', 'voted'])\n",
    "\n",
    "df2 = df2.drop(columns=exclude, axis=1)\n",
    "df2"
   ]
  },
  {
   "cell_type": "markdown",
   "metadata": {},
   "source": [
    "### \n",
    "<h2 style=\"color: #444; border-bottom: 2px solid #9b45e4; padding-bottom: 5px; text-align: center;\">\n",
    "    Transform\n",
    "</h2>\n"
   ]
  },
  {
   "cell_type": "markdown",
   "metadata": {},
   "source": [
    "We need to transform some data, since for example a \"gender\" of 1 is not very detailed for us."
   ]
  },
  {
   "cell_type": "code",
   "execution_count": 10,
   "metadata": {},
   "outputs": [
    {
     "name": "stderr",
     "output_type": "stream",
     "text": [
      "C:\\Users\\josea\\AppData\\Local\\Temp\\ipykernel_26280\\837269602.py:16: FutureWarning: Setting an item of incompatible dtype is deprecated and will raise an error in a future version of pandas. Value 'Less than High School' has dtype incompatible with int64, please explicitly cast to a compatible dtype first.\n",
      "  df2.loc[df2.education == i, 'education'] = grades[i-1]\n",
      "C:\\Users\\josea\\AppData\\Local\\Temp\\ipykernel_26280\\837269602.py:21: FutureWarning: Setting an item of incompatible dtype is deprecated and will raise an error in a future version of pandas. Value 'Rural' has dtype incompatible with int64, please explicitly cast to a compatible dtype first.\n",
      "  df2.loc[df2.urban == i, 'urban'] = utypes[i-1]\n",
      "C:\\Users\\josea\\AppData\\Local\\Temp\\ipykernel_26280\\837269602.py:27: FutureWarning: Setting an item of incompatible dtype is deprecated and will raise an error in a future version of pandas. Value 'Male' has dtype incompatible with int64, please explicitly cast to a compatible dtype first.\n",
      "  df2.loc[df2.gender == i, 'gender'] = genders[i-1]\n",
      "C:\\Users\\josea\\AppData\\Local\\Temp\\ipykernel_26280\\837269602.py:33: FutureWarning: Setting an item of incompatible dtype is deprecated and will raise an error in a future version of pandas. Value 'right' has dtype incompatible with int64, please explicitly cast to a compatible dtype first.\n",
      "  df2.loc[df2.hand == i, 'hand'] = hands[i-1]\n",
      "C:\\Users\\josea\\AppData\\Local\\Temp\\ipykernel_26280\\837269602.py:39: FutureWarning: Setting an item of incompatible dtype is deprecated and will raise an error in a future version of pandas. Value 'Agnostic' has dtype incompatible with int64, please explicitly cast to a compatible dtype first.\n",
      "  df2.loc[df2.religion == i, 'religion'] = religions[i-1]\n",
      "C:\\Users\\josea\\AppData\\Local\\Temp\\ipykernel_26280\\837269602.py:45: FutureWarning: Setting an item of incompatible dtype is deprecated and will raise an error in a future version of pandas. Value 'Heterosexual' has dtype incompatible with int64, please explicitly cast to a compatible dtype first.\n",
      "  df2.loc[df2.orientation == i, 'orientation'] = orients[i-1]\n",
      "C:\\Users\\josea\\AppData\\Local\\Temp\\ipykernel_26280\\837269602.py:51: FutureWarning: Setting an item of incompatible dtype is deprecated and will raise an error in a future version of pandas. Value 'Never married' has dtype incompatible with int64, please explicitly cast to a compatible dtype first.\n",
      "  df2.loc[df.married == i, 'married'] = marital[i-1]\n"
     ]
    },
    {
     "data": {
      "text/html": [
       "<div>\n",
       "<style scoped>\n",
       "    .dataframe tbody tr th:only-of-type {\n",
       "        vertical-align: middle;\n",
       "    }\n",
       "\n",
       "    .dataframe tbody tr th {\n",
       "        vertical-align: top;\n",
       "    }\n",
       "\n",
       "    .dataframe thead th {\n",
       "        text-align: right;\n",
       "    }\n",
       "</style>\n",
       "<table border=\"1\" class=\"dataframe\">\n",
       "  <thead>\n",
       "    <tr style=\"text-align: right;\">\n",
       "      <th></th>\n",
       "      <th>country</th>\n",
       "      <th>source</th>\n",
       "      <th>introelapse</th>\n",
       "      <th>testelapse</th>\n",
       "      <th>surveyelapse</th>\n",
       "      <th>education</th>\n",
       "      <th>urban</th>\n",
       "      <th>gender</th>\n",
       "      <th>age</th>\n",
       "      <th>hand</th>\n",
       "      <th>religion</th>\n",
       "      <th>orientation</th>\n",
       "      <th>race</th>\n",
       "      <th>married</th>\n",
       "      <th>familysize</th>\n",
       "      <th>major</th>\n",
       "    </tr>\n",
       "  </thead>\n",
       "  <tbody>\n",
       "    <tr>\n",
       "      <th>0</th>\n",
       "      <td>IN</td>\n",
       "      <td>2</td>\n",
       "      <td>19</td>\n",
       "      <td>167</td>\n",
       "      <td>166</td>\n",
       "      <td>High School</td>\n",
       "      <td>Urban</td>\n",
       "      <td>Female</td>\n",
       "      <td>16</td>\n",
       "      <td>right</td>\n",
       "      <td>Other</td>\n",
       "      <td>Heterosexual</td>\n",
       "      <td>10</td>\n",
       "      <td>Never married</td>\n",
       "      <td>2</td>\n",
       "      <td>NaN</td>\n",
       "    </tr>\n",
       "    <tr>\n",
       "      <th>1</th>\n",
       "      <td>US</td>\n",
       "      <td>2</td>\n",
       "      <td>1</td>\n",
       "      <td>193</td>\n",
       "      <td>186</td>\n",
       "      <td>High School</td>\n",
       "      <td>Urban</td>\n",
       "      <td>Female</td>\n",
       "      <td>16</td>\n",
       "      <td>left</td>\n",
       "      <td>Christian</td>\n",
       "      <td>0</td>\n",
       "      <td>70</td>\n",
       "      <td>Never married</td>\n",
       "      <td>4</td>\n",
       "      <td>NaN</td>\n",
       "    </tr>\n",
       "    <tr>\n",
       "      <th>2</th>\n",
       "      <td>PL</td>\n",
       "      <td>2</td>\n",
       "      <td>5</td>\n",
       "      <td>271</td>\n",
       "      <td>122</td>\n",
       "      <td>High School</td>\n",
       "      <td>Urban</td>\n",
       "      <td>Female</td>\n",
       "      <td>17</td>\n",
       "      <td>right</td>\n",
       "      <td>Catholic</td>\n",
       "      <td>Homosexual</td>\n",
       "      <td>60</td>\n",
       "      <td>Never married</td>\n",
       "      <td>3</td>\n",
       "      <td>NaN</td>\n",
       "    </tr>\n",
       "    <tr>\n",
       "      <th>3</th>\n",
       "      <td>US</td>\n",
       "      <td>2</td>\n",
       "      <td>3</td>\n",
       "      <td>261</td>\n",
       "      <td>336</td>\n",
       "      <td>Less than High School</td>\n",
       "      <td>Urban</td>\n",
       "      <td>Female</td>\n",
       "      <td>13</td>\n",
       "      <td>left</td>\n",
       "      <td>Catholic</td>\n",
       "      <td>Other</td>\n",
       "      <td>70</td>\n",
       "      <td>Never married</td>\n",
       "      <td>5</td>\n",
       "      <td>biology</td>\n",
       "    </tr>\n",
       "    <tr>\n",
       "      <th>4</th>\n",
       "      <td>MY</td>\n",
       "      <td>2</td>\n",
       "      <td>1766</td>\n",
       "      <td>164</td>\n",
       "      <td>157</td>\n",
       "      <td>University</td>\n",
       "      <td>Suburban</td>\n",
       "      <td>Female</td>\n",
       "      <td>19</td>\n",
       "      <td>both</td>\n",
       "      <td>Muslim</td>\n",
       "      <td>Heterosexual</td>\n",
       "      <td>10</td>\n",
       "      <td>Never married</td>\n",
       "      <td>4</td>\n",
       "      <td>Psychology</td>\n",
       "    </tr>\n",
       "    <tr>\n",
       "      <th>...</th>\n",
       "      <td>...</td>\n",
       "      <td>...</td>\n",
       "      <td>...</td>\n",
       "      <td>...</td>\n",
       "      <td>...</td>\n",
       "      <td>...</td>\n",
       "      <td>...</td>\n",
       "      <td>...</td>\n",
       "      <td>...</td>\n",
       "      <td>...</td>\n",
       "      <td>...</td>\n",
       "      <td>...</td>\n",
       "      <td>...</td>\n",
       "      <td>...</td>\n",
       "      <td>...</td>\n",
       "      <td>...</td>\n",
       "    </tr>\n",
       "    <tr>\n",
       "      <th>39769</th>\n",
       "      <td>US</td>\n",
       "      <td>2</td>\n",
       "      <td>2</td>\n",
       "      <td>300</td>\n",
       "      <td>234</td>\n",
       "      <td>Less than High School</td>\n",
       "      <td>Suburban</td>\n",
       "      <td>Female</td>\n",
       "      <td>16</td>\n",
       "      <td>right</td>\n",
       "      <td>Agnostic</td>\n",
       "      <td>Heterosexual</td>\n",
       "      <td>70</td>\n",
       "      <td>Never married</td>\n",
       "      <td>3</td>\n",
       "      <td>NaN</td>\n",
       "    </tr>\n",
       "    <tr>\n",
       "      <th>39770</th>\n",
       "      <td>GB</td>\n",
       "      <td>2</td>\n",
       "      <td>7</td>\n",
       "      <td>143</td>\n",
       "      <td>66</td>\n",
       "      <td>High School</td>\n",
       "      <td>Suburban</td>\n",
       "      <td>Male</td>\n",
       "      <td>16</td>\n",
       "      <td>right</td>\n",
       "      <td>Atheist</td>\n",
       "      <td>Asexual</td>\n",
       "      <td>60</td>\n",
       "      <td>Never married</td>\n",
       "      <td>2</td>\n",
       "      <td>NaN</td>\n",
       "    </tr>\n",
       "    <tr>\n",
       "      <th>39772</th>\n",
       "      <td>US</td>\n",
       "      <td>0</td>\n",
       "      <td>12</td>\n",
       "      <td>246</td>\n",
       "      <td>257</td>\n",
       "      <td>University</td>\n",
       "      <td>Suburban</td>\n",
       "      <td>Female</td>\n",
       "      <td>48</td>\n",
       "      <td>right</td>\n",
       "      <td>Christian</td>\n",
       "      <td>Heterosexual</td>\n",
       "      <td>30</td>\n",
       "      <td>Currently married</td>\n",
       "      <td>3</td>\n",
       "      <td>Computer Science</td>\n",
       "    </tr>\n",
       "    <tr>\n",
       "      <th>39773</th>\n",
       "      <td>US</td>\n",
       "      <td>2</td>\n",
       "      <td>2</td>\n",
       "      <td>174</td>\n",
       "      <td>113</td>\n",
       "      <td>University</td>\n",
       "      <td>Suburban</td>\n",
       "      <td>Female</td>\n",
       "      <td>20</td>\n",
       "      <td>right</td>\n",
       "      <td>Protestant</td>\n",
       "      <td>Heterosexual</td>\n",
       "      <td>60</td>\n",
       "      <td>Never married</td>\n",
       "      <td>2</td>\n",
       "      <td>History</td>\n",
       "    </tr>\n",
       "    <tr>\n",
       "      <th>39774</th>\n",
       "      <td>MY</td>\n",
       "      <td>1</td>\n",
       "      <td>17</td>\n",
       "      <td>427</td>\n",
       "      <td>371</td>\n",
       "      <td>University</td>\n",
       "      <td>Urban</td>\n",
       "      <td>Female</td>\n",
       "      <td>26</td>\n",
       "      <td>right</td>\n",
       "      <td>Muslim</td>\n",
       "      <td>Heterosexual</td>\n",
       "      <td>10</td>\n",
       "      <td>Never married</td>\n",
       "      <td>4</td>\n",
       "      <td>Cognitive Science</td>\n",
       "    </tr>\n",
       "  </tbody>\n",
       "</table>\n",
       "<p>34583 rows × 16 columns</p>\n",
       "</div>"
      ],
      "text/plain": [
       "      country  source  introelapse  testelapse  surveyelapse  \\\n",
       "0          IN       2           19         167           166   \n",
       "1          US       2            1         193           186   \n",
       "2          PL       2            5         271           122   \n",
       "3          US       2            3         261           336   \n",
       "4          MY       2         1766         164           157   \n",
       "...       ...     ...          ...         ...           ...   \n",
       "39769      US       2            2         300           234   \n",
       "39770      GB       2            7         143            66   \n",
       "39772      US       0           12         246           257   \n",
       "39773      US       2            2         174           113   \n",
       "39774      MY       1           17         427           371   \n",
       "\n",
       "                   education     urban  gender  age   hand    religion  \\\n",
       "0                High School     Urban  Female   16  right       Other   \n",
       "1                High School     Urban  Female   16   left   Christian   \n",
       "2                High School     Urban  Female   17  right    Catholic   \n",
       "3      Less than High School     Urban  Female   13   left    Catholic   \n",
       "4                 University  Suburban  Female   19   both      Muslim   \n",
       "...                      ...       ...     ...  ...    ...         ...   \n",
       "39769  Less than High School  Suburban  Female   16  right    Agnostic   \n",
       "39770            High School  Suburban    Male   16  right     Atheist   \n",
       "39772             University  Suburban  Female   48  right   Christian   \n",
       "39773             University  Suburban  Female   20  right  Protestant   \n",
       "39774             University     Urban  Female   26  right      Muslim   \n",
       "\n",
       "        orientation  race            married  familysize              major  \n",
       "0      Heterosexual    10      Never married           2                NaN  \n",
       "1                 0    70      Never married           4                NaN  \n",
       "2        Homosexual    60      Never married           3                NaN  \n",
       "3             Other    70      Never married           5            biology  \n",
       "4      Heterosexual    10      Never married           4         Psychology  \n",
       "...             ...   ...                ...         ...                ...  \n",
       "39769  Heterosexual    70      Never married           3                NaN  \n",
       "39770       Asexual    60      Never married           2                NaN  \n",
       "39772  Heterosexual    30  Currently married           3   Computer Science  \n",
       "39773  Heterosexual    60      Never married           2            History  \n",
       "39774  Heterosexual    10      Never married           4  Cognitive Science  \n",
       "\n",
       "[34583 rows x 16 columns]"
      ]
     },
     "execution_count": 10,
     "metadata": {},
     "output_type": "execute_result"
    }
   ],
   "source": [
    "#First we have to cast the dtypes to adjust the new ones\n",
    "df2.astype({\n",
    "    'education': 'string',\n",
    "    'urban': 'string',\n",
    "    'gender': 'string',\n",
    "    'hand': 'string',\n",
    "    'religion': 'string',\n",
    "    'orientation': 'string',\n",
    "    'married': 'string',\n",
    "})\n",
    "\n",
    "#Education\n",
    "grades = ['Less than High School', 'High School', 'University', 'Graduate']\n",
    "\n",
    "for i in range(1, 5):\n",
    "    df2.loc[df2.education == i, 'education'] = grades[i-1]\n",
    "#Urban\n",
    "utypes = ['Rural', 'Suburban', 'Urban']\n",
    "\n",
    "for i in range(1, 4):\n",
    "    df2.loc[df2.urban == i, 'urban'] = utypes[i-1]\n",
    "\n",
    "#Gender\n",
    "genders = ['Male', 'Female', 'Other']\n",
    "\n",
    "for i in range (1, 4):\n",
    "    df2.loc[df2.gender == i, 'gender'] = genders[i-1]\n",
    "\n",
    "#Hand\n",
    "hands = ['right', 'left', 'both']\n",
    "\n",
    "for i in range(1, 4):\n",
    "    df2.loc[df2.hand == i, 'hand'] = hands[i-1]\n",
    "\n",
    "#Religion\n",
    "religions = ['Agnostic','Atheist','Buddhist','Catholic','Mormon','Protestant','Christian','Hindu','Jewish', 'Muslim', 'Sikh', 'Other']\n",
    "\n",
    "for i in range(1, 13):\n",
    "    df2.loc[df2.religion == i, 'religion'] = religions[i-1] \n",
    "\n",
    "#Orientation\n",
    "orients = ['Heterosexual', 'Bisexual', 'Homosexual', 'Asexual', 'Other']\n",
    "\n",
    "for i in range(1, 6):\n",
    "    df2.loc[df2.orientation == i, 'orientation'] = orients[i-1]\n",
    "\n",
    "#Married\n",
    "marital = ['Never married', 'Currently married', 'Previously married']\n",
    "\n",
    "for i in range (1, 4):\n",
    "    df2.loc[df.married == i, 'married'] = marital[i-1]\n",
    "\n",
    "df2"
   ]
  },
  {
   "cell_type": "markdown",
   "metadata": {},
   "source": [
    "Now we need to check the values ​​in each column to avoid outliers or bad data. <br>\n",
    "The columns we are interested in here are `age` and `familysize` because of the possibility of typos."
   ]
  },
  {
   "cell_type": "code",
   "execution_count": 11,
   "metadata": {},
   "outputs": [
    {
     "data": {
      "text/html": [
       "<div>\n",
       "<style scoped>\n",
       "    .dataframe tbody tr th:only-of-type {\n",
       "        vertical-align: middle;\n",
       "    }\n",
       "\n",
       "    .dataframe tbody tr th {\n",
       "        vertical-align: top;\n",
       "    }\n",
       "\n",
       "    .dataframe thead th {\n",
       "        text-align: right;\n",
       "    }\n",
       "</style>\n",
       "<table border=\"1\" class=\"dataframe\">\n",
       "  <thead>\n",
       "    <tr style=\"text-align: right;\">\n",
       "      <th></th>\n",
       "      <th>source</th>\n",
       "      <th>introelapse</th>\n",
       "      <th>testelapse</th>\n",
       "      <th>surveyelapse</th>\n",
       "      <th>age</th>\n",
       "      <th>race</th>\n",
       "      <th>familysize</th>\n",
       "    </tr>\n",
       "  </thead>\n",
       "  <tbody>\n",
       "    <tr>\n",
       "      <th>count</th>\n",
       "      <td>34583.000000</td>\n",
       "      <td>3.458300e+04</td>\n",
       "      <td>3.458300e+04</td>\n",
       "      <td>3.458300e+04</td>\n",
       "      <td>34583.000000</td>\n",
       "      <td>34583.000000</td>\n",
       "      <td>34583.000000</td>\n",
       "    </tr>\n",
       "    <tr>\n",
       "      <th>mean</th>\n",
       "      <td>0.884625</td>\n",
       "      <td>2.686741e+03</td>\n",
       "      <td>2.902788e+03</td>\n",
       "      <td>4.888515e+03</td>\n",
       "      <td>23.527542</td>\n",
       "      <td>30.029205</td>\n",
       "      <td>3.557817</td>\n",
       "    </tr>\n",
       "    <tr>\n",
       "      <th>std</th>\n",
       "      <td>0.788957</td>\n",
       "      <td>1.482567e+05</td>\n",
       "      <td>1.579338e+05</td>\n",
       "      <td>1.921872e+05</td>\n",
       "      <td>22.818171</td>\n",
       "      <td>25.689312</td>\n",
       "      <td>2.117563</td>\n",
       "    </tr>\n",
       "    <tr>\n",
       "      <th>min</th>\n",
       "      <td>0.000000</td>\n",
       "      <td>0.000000e+00</td>\n",
       "      <td>1.200000e+01</td>\n",
       "      <td>1.000000e+00</td>\n",
       "      <td>13.000000</td>\n",
       "      <td>10.000000</td>\n",
       "      <td>0.000000</td>\n",
       "    </tr>\n",
       "    <tr>\n",
       "      <th>25%</th>\n",
       "      <td>0.000000</td>\n",
       "      <td>4.000000e+00</td>\n",
       "      <td>1.680000e+02</td>\n",
       "      <td>1.470000e+02</td>\n",
       "      <td>18.000000</td>\n",
       "      <td>10.000000</td>\n",
       "      <td>2.000000</td>\n",
       "    </tr>\n",
       "    <tr>\n",
       "      <th>50%</th>\n",
       "      <td>1.000000</td>\n",
       "      <td>7.000000e+00</td>\n",
       "      <td>2.170000e+02</td>\n",
       "      <td>1.880000e+02</td>\n",
       "      <td>21.000000</td>\n",
       "      <td>10.000000</td>\n",
       "      <td>3.000000</td>\n",
       "    </tr>\n",
       "    <tr>\n",
       "      <th>75%</th>\n",
       "      <td>2.000000</td>\n",
       "      <td>2.100000e+01</td>\n",
       "      <td>3.000000e+02</td>\n",
       "      <td>2.500000e+02</td>\n",
       "      <td>25.000000</td>\n",
       "      <td>60.000000</td>\n",
       "      <td>5.000000</td>\n",
       "    </tr>\n",
       "    <tr>\n",
       "      <th>max</th>\n",
       "      <td>2.000000</td>\n",
       "      <td>2.082974e+07</td>\n",
       "      <td>2.082972e+07</td>\n",
       "      <td>2.082845e+07</td>\n",
       "      <td>1998.000000</td>\n",
       "      <td>70.000000</td>\n",
       "      <td>133.000000</td>\n",
       "    </tr>\n",
       "  </tbody>\n",
       "</table>\n",
       "</div>"
      ],
      "text/plain": [
       "             source   introelapse    testelapse  surveyelapse           age  \\\n",
       "count  34583.000000  3.458300e+04  3.458300e+04  3.458300e+04  34583.000000   \n",
       "mean       0.884625  2.686741e+03  2.902788e+03  4.888515e+03     23.527542   \n",
       "std        0.788957  1.482567e+05  1.579338e+05  1.921872e+05     22.818171   \n",
       "min        0.000000  0.000000e+00  1.200000e+01  1.000000e+00     13.000000   \n",
       "25%        0.000000  4.000000e+00  1.680000e+02  1.470000e+02     18.000000   \n",
       "50%        1.000000  7.000000e+00  2.170000e+02  1.880000e+02     21.000000   \n",
       "75%        2.000000  2.100000e+01  3.000000e+02  2.500000e+02     25.000000   \n",
       "max        2.000000  2.082974e+07  2.082972e+07  2.082845e+07   1998.000000   \n",
       "\n",
       "               race    familysize  \n",
       "count  34583.000000  34583.000000  \n",
       "mean      30.029205      3.557817  \n",
       "std       25.689312      2.117563  \n",
       "min       10.000000      0.000000  \n",
       "25%       10.000000      2.000000  \n",
       "50%       10.000000      3.000000  \n",
       "75%       60.000000      5.000000  \n",
       "max       70.000000    133.000000  "
      ]
     },
     "execution_count": 11,
     "metadata": {},
     "output_type": "execute_result"
    }
   ],
   "source": [
    "df2.describe()"
   ]
  },
  {
   "cell_type": "code",
   "execution_count": 12,
   "metadata": {},
   "outputs": [
    {
     "data": {
      "text/plain": [
       "[<matplotlib.lines.Line2D at 0x19300085280>]"
      ]
     },
     "execution_count": 12,
     "metadata": {},
     "output_type": "execute_result"
    },
    {
     "data": {
      "image/png": "[encoded data removed]",
      "text/plain": [
       "<Figure size 640x480 with 1 Axes>"
      ]
     },
     "metadata": {},
     "output_type": "display_data"
    }
   ],
   "source": [
    "#First lets take a look over each of these columns\n",
    "x = df2.age.value_counts().index\n",
    "y = df2.age.value_counts().values\n",
    "\n",
    "plt.plot(x, y, 'o', color='red')"
   ]
  },
  {
   "cell_type": "markdown",
   "metadata": {},
   "source": [
    "Here we see that there are some rare values ​​like a person who is about **2000** years old or another who is about **250** years old, which seems impossible and will affect our analysis and models. <br>\n",
    "Therefore, we will only take values ​​less than 90 years old, which seems to be a more appropriate value for the age limit."
   ]
  },
  {
   "cell_type": "code",
   "execution_count": 13,
   "metadata": {},
   "outputs": [
    {
     "data": {
      "text/plain": [
       "8"
      ]
     },
     "execution_count": 13,
     "metadata": {},
     "output_type": "execute_result"
    }
   ],
   "source": [
    "len(df2.loc[df.age >= 90])"
   ]
  },
  {
   "cell_type": "markdown",
   "metadata": {},
   "source": [
    "Great! We only have 8 outliers, the dataset won't be greatly affected if we drop them."
   ]
  },
  {
   "cell_type": "code",
   "execution_count": 14,
   "metadata": {},
   "outputs": [
    {
     "data": {
      "text/html": [
       "<div>\n",
       "<style scoped>\n",
       "    .dataframe tbody tr th:only-of-type {\n",
       "        vertical-align: middle;\n",
       "    }\n",
       "\n",
       "    .dataframe tbody tr th {\n",
       "        vertical-align: top;\n",
       "    }\n",
       "\n",
       "    .dataframe thead th {\n",
       "        text-align: right;\n",
       "    }\n",
       "</style>\n",
       "<table border=\"1\" class=\"dataframe\">\n",
       "  <thead>\n",
       "    <tr style=\"text-align: right;\">\n",
       "      <th></th>\n",
       "      <th>source</th>\n",
       "      <th>introelapse</th>\n",
       "      <th>testelapse</th>\n",
       "      <th>surveyelapse</th>\n",
       "      <th>age</th>\n",
       "      <th>race</th>\n",
       "      <th>familysize</th>\n",
       "    </tr>\n",
       "  </thead>\n",
       "  <tbody>\n",
       "    <tr>\n",
       "      <th>count</th>\n",
       "      <td>34575.000000</td>\n",
       "      <td>3.457500e+04</td>\n",
       "      <td>3.457500e+04</td>\n",
       "      <td>3.457500e+04</td>\n",
       "      <td>34575.000000</td>\n",
       "      <td>34575.000000</td>\n",
       "      <td>34575.000000</td>\n",
       "    </tr>\n",
       "    <tr>\n",
       "      <th>mean</th>\n",
       "      <td>0.884657</td>\n",
       "      <td>2.687355e+03</td>\n",
       "      <td>2.903402e+03</td>\n",
       "      <td>4.889597e+03</td>\n",
       "      <td>23.286218</td>\n",
       "      <td>30.030369</td>\n",
       "      <td>3.554071</td>\n",
       "    </tr>\n",
       "    <tr>\n",
       "      <th>std</th>\n",
       "      <td>0.788944</td>\n",
       "      <td>1.482738e+05</td>\n",
       "      <td>1.579521e+05</td>\n",
       "      <td>1.922094e+05</td>\n",
       "      <td>8.335484</td>\n",
       "      <td>25.689693</td>\n",
       "      <td>2.000019</td>\n",
       "    </tr>\n",
       "    <tr>\n",
       "      <th>min</th>\n",
       "      <td>0.000000</td>\n",
       "      <td>0.000000e+00</td>\n",
       "      <td>1.200000e+01</td>\n",
       "      <td>1.000000e+00</td>\n",
       "      <td>13.000000</td>\n",
       "      <td>10.000000</td>\n",
       "      <td>0.000000</td>\n",
       "    </tr>\n",
       "    <tr>\n",
       "      <th>25%</th>\n",
       "      <td>0.000000</td>\n",
       "      <td>4.000000e+00</td>\n",
       "      <td>1.680000e+02</td>\n",
       "      <td>1.470000e+02</td>\n",
       "      <td>18.000000</td>\n",
       "      <td>10.000000</td>\n",
       "      <td>2.000000</td>\n",
       "    </tr>\n",
       "    <tr>\n",
       "      <th>50%</th>\n",
       "      <td>1.000000</td>\n",
       "      <td>7.000000e+00</td>\n",
       "      <td>2.170000e+02</td>\n",
       "      <td>1.880000e+02</td>\n",
       "      <td>21.000000</td>\n",
       "      <td>10.000000</td>\n",
       "      <td>3.000000</td>\n",
       "    </tr>\n",
       "    <tr>\n",
       "      <th>75%</th>\n",
       "      <td>2.000000</td>\n",
       "      <td>2.100000e+01</td>\n",
       "      <td>3.000000e+02</td>\n",
       "      <td>2.500000e+02</td>\n",
       "      <td>25.000000</td>\n",
       "      <td>60.000000</td>\n",
       "      <td>5.000000</td>\n",
       "    </tr>\n",
       "    <tr>\n",
       "      <th>max</th>\n",
       "      <td>2.000000</td>\n",
       "      <td>2.082974e+07</td>\n",
       "      <td>2.082972e+07</td>\n",
       "      <td>2.082845e+07</td>\n",
       "      <td>89.000000</td>\n",
       "      <td>70.000000</td>\n",
       "      <td>99.000000</td>\n",
       "    </tr>\n",
       "  </tbody>\n",
       "</table>\n",
       "</div>"
      ],
      "text/plain": [
       "             source   introelapse    testelapse  surveyelapse           age  \\\n",
       "count  34575.000000  3.457500e+04  3.457500e+04  3.457500e+04  34575.000000   \n",
       "mean       0.884657  2.687355e+03  2.903402e+03  4.889597e+03     23.286218   \n",
       "std        0.788944  1.482738e+05  1.579521e+05  1.922094e+05      8.335484   \n",
       "min        0.000000  0.000000e+00  1.200000e+01  1.000000e+00     13.000000   \n",
       "25%        0.000000  4.000000e+00  1.680000e+02  1.470000e+02     18.000000   \n",
       "50%        1.000000  7.000000e+00  2.170000e+02  1.880000e+02     21.000000   \n",
       "75%        2.000000  2.100000e+01  3.000000e+02  2.500000e+02     25.000000   \n",
       "max        2.000000  2.082974e+07  2.082972e+07  2.082845e+07     89.000000   \n",
       "\n",
       "               race    familysize  \n",
       "count  34575.000000  34575.000000  \n",
       "mean      30.030369      3.554071  \n",
       "std       25.689693      2.000019  \n",
       "min       10.000000      0.000000  \n",
       "25%       10.000000      2.000000  \n",
       "50%       10.000000      3.000000  \n",
       "75%       60.000000      5.000000  \n",
       "max       70.000000     99.000000  "
      ]
     },
     "execution_count": 14,
     "metadata": {},
     "output_type": "execute_result"
    }
   ],
   "source": [
    "df2 = df2.drop(df2.loc[df.age >= 90].index, axis=0)\n",
    "df2.describe()"
   ]
  },
  {
   "cell_type": "markdown",
   "metadata": {},
   "source": [
    "Now, let's see the \"new\" values obtained after treating the column propperly"
   ]
  },
  {
   "cell_type": "code",
   "execution_count": 15,
   "metadata": {},
   "outputs": [
    {
     "data": {
      "text/plain": [
       "[<matplotlib.lines.Line2D at 0x19300067560>]"
      ]
     },
     "execution_count": 15,
     "metadata": {},
     "output_type": "execute_result"
    },
    {
     "data": {
      "image/png": "[encoded data removed]",
      "text/plain": [
       "<Figure size 640x480 with 1 Axes>"
      ]
     },
     "metadata": {},
     "output_type": "display_data"
    }
   ],
   "source": [
    "x = df2.age.value_counts().index\n",
    "y = df2.age.value_counts().values\n",
    "\n",
    "plt.plot(x, y, 'o', color='green')"
   ]
  },
  {
   "cell_type": "markdown",
   "metadata": {},
   "source": [
    "Much better <br>\n",
    "**From the graph we can se that the questionnaire was answered majoritly by people over the 20's**\n",
    "\n",
    "<br>\n",
    "Now let's tread the second column `familysize` due to the presence of an outlier which can be loudous in the analysis"
   ]
  },
  {
   "cell_type": "code",
   "execution_count": 16,
   "metadata": {},
   "outputs": [
    {
     "data": {
      "text/plain": [
       "[<matplotlib.lines.Line2D at 0x19300065f10>]"
      ]
     },
     "execution_count": 16,
     "metadata": {},
     "output_type": "execute_result"
    },
    {
     "data": {
      "image/png": "[encoded data removed]",
      "text/plain": [
       "<Figure size 640x480 with 1 Axes>"
      ]
     },
     "metadata": {},
     "output_type": "display_data"
    }
   ],
   "source": [
    "x = df2.familysize.value_counts().index\n",
    "y = df2.familysize.value_counts().values\n",
    "\n",
    "plt.plot(x, y, 'o', color='red')"
   ]
  },
  {
   "cell_type": "markdown",
   "metadata": {},
   "source": [
    "Hmmm...<br>\n",
    "There ar some values that are no common...<br>\n",
    "Near to 50 children OF THE SAME WOMAN. That's incredible! But even more incredible is have 100 children of her own<br>\n",
    "WHAAAT????\n",
    "\n",
    "Is no common that a woman have 100 children so we will not take them on mind in our analysis."
   ]
  },
  {
   "cell_type": "code",
   "execution_count": 17,
   "metadata": {},
   "outputs": [],
   "source": [
    "df2 = df2.drop(df2.loc[df2.familysize > 40].index, axis=0)"
   ]
  },
  {
   "cell_type": "code",
   "execution_count": 18,
   "metadata": {},
   "outputs": [
    {
     "data": {
      "text/plain": [
       "[<matplotlib.lines.Line2D at 0x19300decbc0>]"
      ]
     },
     "execution_count": 18,
     "metadata": {},
     "output_type": "execute_result"
    },
    {
     "data": {
      "image/png": "[encoded data removed]",
      "text/plain": [
       "<Figure size 640x480 with 1 Axes>"
      ]
     },
     "metadata": {},
     "output_type": "display_data"
    }
   ],
   "source": [
    "x = df2.familysize.value_counts().index\n",
    "y = df2.familysize.value_counts().values\n",
    "\n",
    "plt.plot(x, y, 'o', color='green')"
   ]
  },
  {
   "cell_type": "code",
   "execution_count": 19,
   "metadata": {},
   "outputs": [
    {
     "data": {
      "text/plain": [
       "count    34573.000000\n",
       "mean         3.549851\n",
       "std          1.913943\n",
       "min          0.000000\n",
       "25%          2.000000\n",
       "50%          3.000000\n",
       "75%          5.000000\n",
       "max         21.000000\n",
       "Name: familysize, dtype: float64"
      ]
     },
     "execution_count": 19,
     "metadata": {},
     "output_type": "execute_result"
    }
   ],
   "source": [
    "df2.familysize.describe()"
   ]
  },
  {
   "cell_type": "markdown",
   "metadata": {},
   "source": [
    "Above we can se that the majority of the families are from 1 to 5 children formed which sounds to be a much more regular situation"
   ]
  },
  {
   "cell_type": "code",
   "execution_count": 20,
   "metadata": {},
   "outputs": [
    {
     "data": {
      "text/html": [
       "<div>\n",
       "<style scoped>\n",
       "    .dataframe tbody tr th:only-of-type {\n",
       "        vertical-align: middle;\n",
       "    }\n",
       "\n",
       "    .dataframe tbody tr th {\n",
       "        vertical-align: top;\n",
       "    }\n",
       "\n",
       "    .dataframe thead th {\n",
       "        text-align: right;\n",
       "    }\n",
       "</style>\n",
       "<table border=\"1\" class=\"dataframe\">\n",
       "  <thead>\n",
       "    <tr style=\"text-align: right;\">\n",
       "      <th></th>\n",
       "      <th>country</th>\n",
       "      <th>source</th>\n",
       "      <th>introelapse</th>\n",
       "      <th>testelapse</th>\n",
       "      <th>surveyelapse</th>\n",
       "      <th>education</th>\n",
       "      <th>urban</th>\n",
       "      <th>gender</th>\n",
       "      <th>age</th>\n",
       "      <th>hand</th>\n",
       "      <th>religion</th>\n",
       "      <th>orientation</th>\n",
       "      <th>race</th>\n",
       "      <th>married</th>\n",
       "      <th>familysize</th>\n",
       "      <th>major</th>\n",
       "    </tr>\n",
       "  </thead>\n",
       "  <tbody>\n",
       "    <tr>\n",
       "      <th>0</th>\n",
       "      <td>IN</td>\n",
       "      <td>2</td>\n",
       "      <td>19</td>\n",
       "      <td>167</td>\n",
       "      <td>166</td>\n",
       "      <td>High School</td>\n",
       "      <td>Urban</td>\n",
       "      <td>Female</td>\n",
       "      <td>16</td>\n",
       "      <td>right</td>\n",
       "      <td>Other</td>\n",
       "      <td>Heterosexual</td>\n",
       "      <td>10</td>\n",
       "      <td>Never married</td>\n",
       "      <td>2</td>\n",
       "      <td>NaN</td>\n",
       "    </tr>\n",
       "    <tr>\n",
       "      <th>1</th>\n",
       "      <td>US</td>\n",
       "      <td>2</td>\n",
       "      <td>1</td>\n",
       "      <td>193</td>\n",
       "      <td>186</td>\n",
       "      <td>High School</td>\n",
       "      <td>Urban</td>\n",
       "      <td>Female</td>\n",
       "      <td>16</td>\n",
       "      <td>left</td>\n",
       "      <td>Christian</td>\n",
       "      <td>0</td>\n",
       "      <td>70</td>\n",
       "      <td>Never married</td>\n",
       "      <td>4</td>\n",
       "      <td>NaN</td>\n",
       "    </tr>\n",
       "    <tr>\n",
       "      <th>2</th>\n",
       "      <td>PL</td>\n",
       "      <td>2</td>\n",
       "      <td>5</td>\n",
       "      <td>271</td>\n",
       "      <td>122</td>\n",
       "      <td>High School</td>\n",
       "      <td>Urban</td>\n",
       "      <td>Female</td>\n",
       "      <td>17</td>\n",
       "      <td>right</td>\n",
       "      <td>Catholic</td>\n",
       "      <td>Homosexual</td>\n",
       "      <td>60</td>\n",
       "      <td>Never married</td>\n",
       "      <td>3</td>\n",
       "      <td>NaN</td>\n",
       "    </tr>\n",
       "    <tr>\n",
       "      <th>3</th>\n",
       "      <td>US</td>\n",
       "      <td>2</td>\n",
       "      <td>3</td>\n",
       "      <td>261</td>\n",
       "      <td>336</td>\n",
       "      <td>Less than High School</td>\n",
       "      <td>Urban</td>\n",
       "      <td>Female</td>\n",
       "      <td>13</td>\n",
       "      <td>left</td>\n",
       "      <td>Catholic</td>\n",
       "      <td>Other</td>\n",
       "      <td>70</td>\n",
       "      <td>Never married</td>\n",
       "      <td>5</td>\n",
       "      <td>biology</td>\n",
       "    </tr>\n",
       "    <tr>\n",
       "      <th>4</th>\n",
       "      <td>MY</td>\n",
       "      <td>2</td>\n",
       "      <td>1766</td>\n",
       "      <td>164</td>\n",
       "      <td>157</td>\n",
       "      <td>University</td>\n",
       "      <td>Suburban</td>\n",
       "      <td>Female</td>\n",
       "      <td>19</td>\n",
       "      <td>both</td>\n",
       "      <td>Muslim</td>\n",
       "      <td>Heterosexual</td>\n",
       "      <td>10</td>\n",
       "      <td>Never married</td>\n",
       "      <td>4</td>\n",
       "      <td>Psychology</td>\n",
       "    </tr>\n",
       "    <tr>\n",
       "      <th>...</th>\n",
       "      <td>...</td>\n",
       "      <td>...</td>\n",
       "      <td>...</td>\n",
       "      <td>...</td>\n",
       "      <td>...</td>\n",
       "      <td>...</td>\n",
       "      <td>...</td>\n",
       "      <td>...</td>\n",
       "      <td>...</td>\n",
       "      <td>...</td>\n",
       "      <td>...</td>\n",
       "      <td>...</td>\n",
       "      <td>...</td>\n",
       "      <td>...</td>\n",
       "      <td>...</td>\n",
       "      <td>...</td>\n",
       "    </tr>\n",
       "    <tr>\n",
       "      <th>39769</th>\n",
       "      <td>US</td>\n",
       "      <td>2</td>\n",
       "      <td>2</td>\n",
       "      <td>300</td>\n",
       "      <td>234</td>\n",
       "      <td>Less than High School</td>\n",
       "      <td>Suburban</td>\n",
       "      <td>Female</td>\n",
       "      <td>16</td>\n",
       "      <td>right</td>\n",
       "      <td>Agnostic</td>\n",
       "      <td>Heterosexual</td>\n",
       "      <td>70</td>\n",
       "      <td>Never married</td>\n",
       "      <td>3</td>\n",
       "      <td>NaN</td>\n",
       "    </tr>\n",
       "    <tr>\n",
       "      <th>39770</th>\n",
       "      <td>GB</td>\n",
       "      <td>2</td>\n",
       "      <td>7</td>\n",
       "      <td>143</td>\n",
       "      <td>66</td>\n",
       "      <td>High School</td>\n",
       "      <td>Suburban</td>\n",
       "      <td>Male</td>\n",
       "      <td>16</td>\n",
       "      <td>right</td>\n",
       "      <td>Atheist</td>\n",
       "      <td>Asexual</td>\n",
       "      <td>60</td>\n",
       "      <td>Never married</td>\n",
       "      <td>2</td>\n",
       "      <td>NaN</td>\n",
       "    </tr>\n",
       "    <tr>\n",
       "      <th>39772</th>\n",
       "      <td>US</td>\n",
       "      <td>0</td>\n",
       "      <td>12</td>\n",
       "      <td>246</td>\n",
       "      <td>257</td>\n",
       "      <td>University</td>\n",
       "      <td>Suburban</td>\n",
       "      <td>Female</td>\n",
       "      <td>48</td>\n",
       "      <td>right</td>\n",
       "      <td>Christian</td>\n",
       "      <td>Heterosexual</td>\n",
       "      <td>30</td>\n",
       "      <td>Currently married</td>\n",
       "      <td>3</td>\n",
       "      <td>Computer Science</td>\n",
       "    </tr>\n",
       "    <tr>\n",
       "      <th>39773</th>\n",
       "      <td>US</td>\n",
       "      <td>2</td>\n",
       "      <td>2</td>\n",
       "      <td>174</td>\n",
       "      <td>113</td>\n",
       "      <td>University</td>\n",
       "      <td>Suburban</td>\n",
       "      <td>Female</td>\n",
       "      <td>20</td>\n",
       "      <td>right</td>\n",
       "      <td>Protestant</td>\n",
       "      <td>Heterosexual</td>\n",
       "      <td>60</td>\n",
       "      <td>Never married</td>\n",
       "      <td>2</td>\n",
       "      <td>History</td>\n",
       "    </tr>\n",
       "    <tr>\n",
       "      <th>39774</th>\n",
       "      <td>MY</td>\n",
       "      <td>1</td>\n",
       "      <td>17</td>\n",
       "      <td>427</td>\n",
       "      <td>371</td>\n",
       "      <td>University</td>\n",
       "      <td>Urban</td>\n",
       "      <td>Female</td>\n",
       "      <td>26</td>\n",
       "      <td>right</td>\n",
       "      <td>Muslim</td>\n",
       "      <td>Heterosexual</td>\n",
       "      <td>10</td>\n",
       "      <td>Never married</td>\n",
       "      <td>4</td>\n",
       "      <td>Cognitive Science</td>\n",
       "    </tr>\n",
       "  </tbody>\n",
       "</table>\n",
       "<p>34573 rows × 16 columns</p>\n",
       "</div>"
      ],
      "text/plain": [
       "      country  source  introelapse  testelapse  surveyelapse  \\\n",
       "0          IN       2           19         167           166   \n",
       "1          US       2            1         193           186   \n",
       "2          PL       2            5         271           122   \n",
       "3          US       2            3         261           336   \n",
       "4          MY       2         1766         164           157   \n",
       "...       ...     ...          ...         ...           ...   \n",
       "39769      US       2            2         300           234   \n",
       "39770      GB       2            7         143            66   \n",
       "39772      US       0           12         246           257   \n",
       "39773      US       2            2         174           113   \n",
       "39774      MY       1           17         427           371   \n",
       "\n",
       "                   education     urban  gender  age   hand    religion  \\\n",
       "0                High School     Urban  Female   16  right       Other   \n",
       "1                High School     Urban  Female   16   left   Christian   \n",
       "2                High School     Urban  Female   17  right    Catholic   \n",
       "3      Less than High School     Urban  Female   13   left    Catholic   \n",
       "4                 University  Suburban  Female   19   both      Muslim   \n",
       "...                      ...       ...     ...  ...    ...         ...   \n",
       "39769  Less than High School  Suburban  Female   16  right    Agnostic   \n",
       "39770            High School  Suburban    Male   16  right     Atheist   \n",
       "39772             University  Suburban  Female   48  right   Christian   \n",
       "39773             University  Suburban  Female   20  right  Protestant   \n",
       "39774             University     Urban  Female   26  right      Muslim   \n",
       "\n",
       "        orientation  race            married  familysize              major  \n",
       "0      Heterosexual    10      Never married           2                NaN  \n",
       "1                 0    70      Never married           4                NaN  \n",
       "2        Homosexual    60      Never married           3                NaN  \n",
       "3             Other    70      Never married           5            biology  \n",
       "4      Heterosexual    10      Never married           4         Psychology  \n",
       "...             ...   ...                ...         ...                ...  \n",
       "39769  Heterosexual    70      Never married           3                NaN  \n",
       "39770       Asexual    60      Never married           2                NaN  \n",
       "39772  Heterosexual    30  Currently married           3   Computer Science  \n",
       "39773  Heterosexual    60      Never married           2            History  \n",
       "39774  Heterosexual    10      Never married           4  Cognitive Science  \n",
       "\n",
       "[34573 rows x 16 columns]"
      ]
     },
     "execution_count": 20,
     "metadata": {},
     "output_type": "execute_result"
    }
   ],
   "source": [
    "df2"
   ]
  },
  {
   "cell_type": "code",
   "execution_count": 21,
   "metadata": {},
   "outputs": [
    {
     "data": {
      "text/plain": [
       "education\n",
       "University               13367\n",
       "High School              13014\n",
       "Graduate                  4378\n",
       "Less than High School     3387\n",
       "0                          427\n",
       "Name: count, dtype: int64"
      ]
     },
     "execution_count": 21,
     "metadata": {},
     "output_type": "execute_result"
    }
   ],
   "source": [
    "df2.education.value_counts()"
   ]
  },
  {
   "cell_type": "markdown",
   "metadata": {},
   "source": [
    "0 is not a valid value for this column, but due to the scale taken we can assume them to be part of the \"Less than High School\" group "
   ]
  },
  {
   "cell_type": "code",
   "execution_count": 22,
   "metadata": {},
   "outputs": [
    {
     "data": {
      "text/plain": [
       "education\n",
       "University               13367\n",
       "High School              13014\n",
       "Graduate                  4378\n",
       "Less than High School     3814\n",
       "Name: count, dtype: int64"
      ]
     },
     "execution_count": 22,
     "metadata": {},
     "output_type": "execute_result"
    }
   ],
   "source": [
    "df2.loc[df2.education == 0, 'education'] = 'Less than High School' \n",
    "df2.education.value_counts()"
   ]
  },
  {
   "cell_type": "markdown",
   "metadata": {},
   "source": [
    "Perfect, let's move onto the next column"
   ]
  },
  {
   "cell_type": "code",
   "execution_count": 23,
   "metadata": {},
   "outputs": [
    {
     "data": {
      "text/plain": [
       "urban\n",
       "Urban       15663\n",
       "Suburban    11317\n",
       "Rural        7249\n",
       "0             344\n",
       "Name: count, dtype: int64"
      ]
     },
     "execution_count": 23,
     "metadata": {},
     "output_type": "execute_result"
    }
   ],
   "source": [
    "df2.urban.value_counts()"
   ]
  },
  {
   "cell_type": "markdown",
   "metadata": {},
   "source": [
    "Again, the scale helps us to do assumptions over the people who did a typo in them answers"
   ]
  },
  {
   "cell_type": "code",
   "execution_count": 24,
   "metadata": {},
   "outputs": [
    {
     "data": {
      "text/plain": [
       "urban\n",
       "Urban       15663\n",
       "Suburban    11317\n",
       "Rural        7593\n",
       "Name: count, dtype: int64"
      ]
     },
     "execution_count": 24,
     "metadata": {},
     "output_type": "execute_result"
    }
   ],
   "source": [
    "df2.loc[df.urban == 0, 'urban'] = 'Rural'\n",
    "df2.urban.value_counts()"
   ]
  },
  {
   "cell_type": "code",
   "execution_count": 25,
   "metadata": {},
   "outputs": [
    {
     "data": {
      "text/plain": [
       "gender\n",
       "Female    26673\n",
       "Male       7398\n",
       "Other       440\n",
       "0            62\n",
       "Name: count, dtype: int64"
      ]
     },
     "execution_count": 25,
     "metadata": {},
     "output_type": "execute_result"
    }
   ],
   "source": [
    "df2.gender.value_counts()"
   ]
  },
  {
   "cell_type": "markdown",
   "metadata": {},
   "source": [
    "In this case, we cannot make assumptions over the scale of the answer code, but we can say that the gender of that people is not known and therefore, we can put them in the *Other* group"
   ]
  },
  {
   "cell_type": "code",
   "execution_count": 26,
   "metadata": {},
   "outputs": [
    {
     "data": {
      "text/plain": [
       "gender\n",
       "Female    26673\n",
       "Male       7398\n",
       "Other       502\n",
       "Name: count, dtype: int64"
      ]
     },
     "execution_count": 26,
     "metadata": {},
     "output_type": "execute_result"
    }
   ],
   "source": [
    "df2.loc[df2.gender == 0, 'gender'] = 'Other'\n",
    "df2.gender.value_counts()"
   ]
  },
  {
   "cell_type": "code",
   "execution_count": 27,
   "metadata": {},
   "outputs": [
    {
     "data": {
      "text/plain": [
       "hand\n",
       "right    30341\n",
       "left      3615\n",
       "both       467\n",
       "0          150\n",
       "Name: count, dtype: int64"
      ]
     },
     "execution_count": 27,
     "metadata": {},
     "output_type": "execute_result"
    }
   ],
   "source": [
    "df2.hand.value_counts()"
   ]
  },
  {
   "cell_type": "markdown",
   "metadata": {},
   "source": [
    "Now we have a problem with this values, since there's no way to add to any group the value 0.<br>\n",
    "But we can solve it by creating a new group `Unknown` for those rows where 0 was found"
   ]
  },
  {
   "cell_type": "code",
   "execution_count": 28,
   "metadata": {},
   "outputs": [
    {
     "data": {
      "text/plain": [
       "hand\n",
       "right      30341\n",
       "left        3615\n",
       "both         467\n",
       "Unknown      150\n",
       "Name: count, dtype: int64"
      ]
     },
     "execution_count": 28,
     "metadata": {},
     "output_type": "execute_result"
    }
   ],
   "source": [
    "df2.loc[df2.hand == 0, 'hand'] = 'Unknown'\n",
    "df2.hand.value_counts()"
   ]
  },
  {
   "cell_type": "code",
   "execution_count": 29,
   "metadata": {},
   "outputs": [
    {
     "data": {
      "text/plain": [
       "orientation\n",
       "Heterosexual    21169\n",
       "Bisexual         4122\n",
       "Other            3060\n",
       "0                2878\n",
       "Asexual          1719\n",
       "Homosexual       1625\n",
       "Name: count, dtype: int64"
      ]
     },
     "execution_count": 29,
     "metadata": {},
     "output_type": "execute_result"
    }
   ],
   "source": [
    "df2.orientation.value_counts()"
   ]
  },
  {
   "cell_type": "markdown",
   "metadata": {},
   "source": [
    "In this case we do can add the rows where 0 was found to the category `Other`"
   ]
  },
  {
   "cell_type": "code",
   "execution_count": 30,
   "metadata": {},
   "outputs": [
    {
     "data": {
      "text/plain": [
       "orientation\n",
       "Heterosexual    21169\n",
       "Other            5938\n",
       "Bisexual         4122\n",
       "Asexual          1719\n",
       "Homosexual       1625\n",
       "Name: count, dtype: int64"
      ]
     },
     "execution_count": 30,
     "metadata": {},
     "output_type": "execute_result"
    }
   ],
   "source": [
    "df2.loc[df2.orientation == 0, 'orientation'] = 'Other'\n",
    "df2.orientation.value_counts()"
   ]
  },
  {
   "cell_type": "code",
   "execution_count": 31,
   "metadata": {},
   "outputs": [],
   "source": [
    "df2 = df2.fillna({'major': 'Unknown'})"
   ]
  },
  {
   "cell_type": "code",
   "execution_count": 32,
   "metadata": {},
   "outputs": [
    {
     "data": {
      "text/plain": [
       "married\n",
       "Never married         29823\n",
       "Currently married      3709\n",
       "Previously married      859\n",
       "0                       182\n",
       "Name: count, dtype: int64"
      ]
     },
     "execution_count": 32,
     "metadata": {},
     "output_type": "execute_result"
    }
   ],
   "source": [
    "df2.married.value_counts()"
   ]
  },
  {
   "cell_type": "code",
   "execution_count": 33,
   "metadata": {},
   "outputs": [
    {
     "data": {
      "text/plain": [
       "married\n",
       "Never married         29823\n",
       "Currently married      3709\n",
       "Previously married      859\n",
       "Unknown                 182\n",
       "Name: count, dtype: int64"
      ]
     },
     "execution_count": 33,
     "metadata": {},
     "output_type": "execute_result"
    }
   ],
   "source": [
    "df2.loc[df2.married == 0, 'married'] = 'Unknown'\n",
    "df2.married.value_counts()"
   ]
  },
  {
   "cell_type": "markdown",
   "metadata": {},
   "source": [
    "##\n",
    "<h2 style=\"background: linear-gradient(to right, #000, #9b45e4); color: white; font-style: italic; padding: 10px 20px; border-radius: 5px; text-align: center;\">\n",
    "    📊 Exploratory Data Analysis 📊\n",
    "</h2>"
   ]
  },
  {
   "cell_type": "markdown",
   "metadata": {},
   "source": [
    "We do not yet have the “diagnoses” of the people, in order to obtain them we have to do certain operations as the DASS protocol says, but in first instance let's visualize the data that we do have"
   ]
  },
  {
   "cell_type": "code",
   "execution_count": 34,
   "metadata": {},
   "outputs": [],
   "source": [
    "plt.style.use('seaborn-v0_8-notebook')"
   ]
  },
  {
   "cell_type": "markdown",
   "metadata": {},
   "source": [
    "Before we start with the EDA, let's see a last time the dataframe"
   ]
  },
  {
   "cell_type": "code",
   "execution_count": 35,
   "metadata": {},
   "outputs": [
    {
     "data": {
      "text/html": [
       "<div>\n",
       "<style scoped>\n",
       "    .dataframe tbody tr th:only-of-type {\n",
       "        vertical-align: middle;\n",
       "    }\n",
       "\n",
       "    .dataframe tbody tr th {\n",
       "        vertical-align: top;\n",
       "    }\n",
       "\n",
       "    .dataframe thead th {\n",
       "        text-align: right;\n",
       "    }\n",
       "</style>\n",
       "<table border=\"1\" class=\"dataframe\">\n",
       "  <thead>\n",
       "    <tr style=\"text-align: right;\">\n",
       "      <th></th>\n",
       "      <th>country</th>\n",
       "      <th>source</th>\n",
       "      <th>introelapse</th>\n",
       "      <th>testelapse</th>\n",
       "      <th>surveyelapse</th>\n",
       "      <th>education</th>\n",
       "      <th>urban</th>\n",
       "      <th>gender</th>\n",
       "      <th>age</th>\n",
       "      <th>hand</th>\n",
       "      <th>religion</th>\n",
       "      <th>orientation</th>\n",
       "      <th>race</th>\n",
       "      <th>married</th>\n",
       "      <th>familysize</th>\n",
       "      <th>major</th>\n",
       "    </tr>\n",
       "  </thead>\n",
       "  <tbody>\n",
       "    <tr>\n",
       "      <th>0</th>\n",
       "      <td>IN</td>\n",
       "      <td>2</td>\n",
       "      <td>19</td>\n",
       "      <td>167</td>\n",
       "      <td>166</td>\n",
       "      <td>High School</td>\n",
       "      <td>Urban</td>\n",
       "      <td>Female</td>\n",
       "      <td>16</td>\n",
       "      <td>right</td>\n",
       "      <td>Other</td>\n",
       "      <td>Heterosexual</td>\n",
       "      <td>10</td>\n",
       "      <td>Never married</td>\n",
       "      <td>2</td>\n",
       "      <td>Unknown</td>\n",
       "    </tr>\n",
       "    <tr>\n",
       "      <th>1</th>\n",
       "      <td>US</td>\n",
       "      <td>2</td>\n",
       "      <td>1</td>\n",
       "      <td>193</td>\n",
       "      <td>186</td>\n",
       "      <td>High School</td>\n",
       "      <td>Urban</td>\n",
       "      <td>Female</td>\n",
       "      <td>16</td>\n",
       "      <td>left</td>\n",
       "      <td>Christian</td>\n",
       "      <td>Other</td>\n",
       "      <td>70</td>\n",
       "      <td>Never married</td>\n",
       "      <td>4</td>\n",
       "      <td>Unknown</td>\n",
       "    </tr>\n",
       "    <tr>\n",
       "      <th>2</th>\n",
       "      <td>PL</td>\n",
       "      <td>2</td>\n",
       "      <td>5</td>\n",
       "      <td>271</td>\n",
       "      <td>122</td>\n",
       "      <td>High School</td>\n",
       "      <td>Urban</td>\n",
       "      <td>Female</td>\n",
       "      <td>17</td>\n",
       "      <td>right</td>\n",
       "      <td>Catholic</td>\n",
       "      <td>Homosexual</td>\n",
       "      <td>60</td>\n",
       "      <td>Never married</td>\n",
       "      <td>3</td>\n",
       "      <td>Unknown</td>\n",
       "    </tr>\n",
       "    <tr>\n",
       "      <th>3</th>\n",
       "      <td>US</td>\n",
       "      <td>2</td>\n",
       "      <td>3</td>\n",
       "      <td>261</td>\n",
       "      <td>336</td>\n",
       "      <td>Less than High School</td>\n",
       "      <td>Urban</td>\n",
       "      <td>Female</td>\n",
       "      <td>13</td>\n",
       "      <td>left</td>\n",
       "      <td>Catholic</td>\n",
       "      <td>Other</td>\n",
       "      <td>70</td>\n",
       "      <td>Never married</td>\n",
       "      <td>5</td>\n",
       "      <td>biology</td>\n",
       "    </tr>\n",
       "    <tr>\n",
       "      <th>4</th>\n",
       "      <td>MY</td>\n",
       "      <td>2</td>\n",
       "      <td>1766</td>\n",
       "      <td>164</td>\n",
       "      <td>157</td>\n",
       "      <td>University</td>\n",
       "      <td>Suburban</td>\n",
       "      <td>Female</td>\n",
       "      <td>19</td>\n",
       "      <td>both</td>\n",
       "      <td>Muslim</td>\n",
       "      <td>Heterosexual</td>\n",
       "      <td>10</td>\n",
       "      <td>Never married</td>\n",
       "      <td>4</td>\n",
       "      <td>Psychology</td>\n",
       "    </tr>\n",
       "    <tr>\n",
       "      <th>...</th>\n",
       "      <td>...</td>\n",
       "      <td>...</td>\n",
       "      <td>...</td>\n",
       "      <td>...</td>\n",
       "      <td>...</td>\n",
       "      <td>...</td>\n",
       "      <td>...</td>\n",
       "      <td>...</td>\n",
       "      <td>...</td>\n",
       "      <td>...</td>\n",
       "      <td>...</td>\n",
       "      <td>...</td>\n",
       "      <td>...</td>\n",
       "      <td>...</td>\n",
       "      <td>...</td>\n",
       "      <td>...</td>\n",
       "    </tr>\n",
       "    <tr>\n",
       "      <th>39769</th>\n",
       "      <td>US</td>\n",
       "      <td>2</td>\n",
       "      <td>2</td>\n",
       "      <td>300</td>\n",
       "      <td>234</td>\n",
       "      <td>Less than High School</td>\n",
       "      <td>Suburban</td>\n",
       "      <td>Female</td>\n",
       "      <td>16</td>\n",
       "      <td>right</td>\n",
       "      <td>Agnostic</td>\n",
       "      <td>Heterosexual</td>\n",
       "      <td>70</td>\n",
       "      <td>Never married</td>\n",
       "      <td>3</td>\n",
       "      <td>Unknown</td>\n",
       "    </tr>\n",
       "    <tr>\n",
       "      <th>39770</th>\n",
       "      <td>GB</td>\n",
       "      <td>2</td>\n",
       "      <td>7</td>\n",
       "      <td>143</td>\n",
       "      <td>66</td>\n",
       "      <td>High School</td>\n",
       "      <td>Suburban</td>\n",
       "      <td>Male</td>\n",
       "      <td>16</td>\n",
       "      <td>right</td>\n",
       "      <td>Atheist</td>\n",
       "      <td>Asexual</td>\n",
       "      <td>60</td>\n",
       "      <td>Never married</td>\n",
       "      <td>2</td>\n",
       "      <td>Unknown</td>\n",
       "    </tr>\n",
       "    <tr>\n",
       "      <th>39772</th>\n",
       "      <td>US</td>\n",
       "      <td>0</td>\n",
       "      <td>12</td>\n",
       "      <td>246</td>\n",
       "      <td>257</td>\n",
       "      <td>University</td>\n",
       "      <td>Suburban</td>\n",
       "      <td>Female</td>\n",
       "      <td>48</td>\n",
       "      <td>right</td>\n",
       "      <td>Christian</td>\n",
       "      <td>Heterosexual</td>\n",
       "      <td>30</td>\n",
       "      <td>Currently married</td>\n",
       "      <td>3</td>\n",
       "      <td>Computer Science</td>\n",
       "    </tr>\n",
       "    <tr>\n",
       "      <th>39773</th>\n",
       "      <td>US</td>\n",
       "      <td>2</td>\n",
       "      <td>2</td>\n",
       "      <td>174</td>\n",
       "      <td>113</td>\n",
       "      <td>University</td>\n",
       "      <td>Suburban</td>\n",
       "      <td>Female</td>\n",
       "      <td>20</td>\n",
       "      <td>right</td>\n",
       "      <td>Protestant</td>\n",
       "      <td>Heterosexual</td>\n",
       "      <td>60</td>\n",
       "      <td>Never married</td>\n",
       "      <td>2</td>\n",
       "      <td>History</td>\n",
       "    </tr>\n",
       "    <tr>\n",
       "      <th>39774</th>\n",
       "      <td>MY</td>\n",
       "      <td>1</td>\n",
       "      <td>17</td>\n",
       "      <td>427</td>\n",
       "      <td>371</td>\n",
       "      <td>University</td>\n",
       "      <td>Urban</td>\n",
       "      <td>Female</td>\n",
       "      <td>26</td>\n",
       "      <td>right</td>\n",
       "      <td>Muslim</td>\n",
       "      <td>Heterosexual</td>\n",
       "      <td>10</td>\n",
       "      <td>Never married</td>\n",
       "      <td>4</td>\n",
       "      <td>Cognitive Science</td>\n",
       "    </tr>\n",
       "  </tbody>\n",
       "</table>\n",
       "<p>34573 rows × 16 columns</p>\n",
       "</div>"
      ],
      "text/plain": [
       "      country  source  introelapse  testelapse  surveyelapse  \\\n",
       "0          IN       2           19         167           166   \n",
       "1          US       2            1         193           186   \n",
       "2          PL       2            5         271           122   \n",
       "3          US       2            3         261           336   \n",
       "4          MY       2         1766         164           157   \n",
       "...       ...     ...          ...         ...           ...   \n",
       "39769      US       2            2         300           234   \n",
       "39770      GB       2            7         143            66   \n",
       "39772      US       0           12         246           257   \n",
       "39773      US       2            2         174           113   \n",
       "39774      MY       1           17         427           371   \n",
       "\n",
       "                   education     urban  gender  age   hand    religion  \\\n",
       "0                High School     Urban  Female   16  right       Other   \n",
       "1                High School     Urban  Female   16   left   Christian   \n",
       "2                High School     Urban  Female   17  right    Catholic   \n",
       "3      Less than High School     Urban  Female   13   left    Catholic   \n",
       "4                 University  Suburban  Female   19   both      Muslim   \n",
       "...                      ...       ...     ...  ...    ...         ...   \n",
       "39769  Less than High School  Suburban  Female   16  right    Agnostic   \n",
       "39770            High School  Suburban    Male   16  right     Atheist   \n",
       "39772             University  Suburban  Female   48  right   Christian   \n",
       "39773             University  Suburban  Female   20  right  Protestant   \n",
       "39774             University     Urban  Female   26  right      Muslim   \n",
       "\n",
       "        orientation  race            married  familysize              major  \n",
       "0      Heterosexual    10      Never married           2            Unknown  \n",
       "1             Other    70      Never married           4            Unknown  \n",
       "2        Homosexual    60      Never married           3            Unknown  \n",
       "3             Other    70      Never married           5            biology  \n",
       "4      Heterosexual    10      Never married           4         Psychology  \n",
       "...             ...   ...                ...         ...                ...  \n",
       "39769  Heterosexual    70      Never married           3            Unknown  \n",
       "39770       Asexual    60      Never married           2            Unknown  \n",
       "39772  Heterosexual    30  Currently married           3   Computer Science  \n",
       "39773  Heterosexual    60      Never married           2            History  \n",
       "39774  Heterosexual    10      Never married           4  Cognitive Science  \n",
       "\n",
       "[34573 rows x 16 columns]"
      ]
     },
     "execution_count": 35,
     "metadata": {},
     "output_type": "execute_result"
    }
   ],
   "source": [
    "df2"
   ]
  },
  {
   "cell_type": "code",
   "execution_count": 98,
   "metadata": {},
   "outputs": [
    {
     "data": {
      "text/plain": [
       "Text(0.5, 1.0, \"People's marital status\")"
      ]
     },
     "execution_count": 98,
     "metadata": {},
     "output_type": "execute_result"
    },
    {
     "data": {
      "image/png": "[encoded data removed]",
      "text/plain": [
       "<Figure size 1200x800 with 1 Axes>"
      ]
     },
     "metadata": {},
     "output_type": "display_data"
    }
   ],
   "source": [
    "# First let's see the proportions of marital statuses (hypothesis 1)\n",
    "\n",
    "fig = plt.figure(figsize=(12,8))\n",
    "ax = plt.axes()\n",
    "ax.pie(df2.married.value_counts().values, labels=df2.married.value_counts().index)\n",
    "plt.title(\"People's marital status\")"
   ]
  },
  {
   "cell_type": "code",
   "execution_count": 77,
   "metadata": {},
   "outputs": [
    {
     "data": {
      "text/plain": [
       "Text(0, 0.5, 'Count')"
      ]
     },
     "execution_count": 77,
     "metadata": {},
     "output_type": "execute_result"
    },
    {
     "data": {
      "image/png": "[encoded data removed]",
      "text/plain": [
       "<Figure size 800x550 with 1 Axes>"
      ]
     },
     "metadata": {},
     "output_type": "display_data"
    }
   ],
   "source": [
    "x = df2.education.value_counts().index\n",
    "y = df2.education.value_counts().values\n",
    "\n",
    "plt.bar(x, y)\n",
    "plt.title(\"Comparing Educational Levels\")\n",
    "plt.xlabel(\"Educational level\")\n",
    "plt.ylabel(\"Count\")"
   ]
  },
  {
   "cell_type": "code",
   "execution_count": 58,
   "metadata": {},
   "outputs": [
    {
     "data": {
      "text/plain": [
       "Text(0.5, 0, 'Age (years)')"
      ]
     },
     "execution_count": 58,
     "metadata": {},
     "output_type": "execute_result"
    },
    {
     "data": {
      "image/png": "[encoded data removed]",
      "text/plain": [
       "<Figure size 1000x400 with 1 Axes>"
      ]
     },
     "metadata": {},
     "output_type": "display_data"
    }
   ],
   "source": [
    "#Now let's see the distribution of ages of people who answered the questionnaire (hypothesis 2)\n",
    "\n",
    "#plt.plot(df2.age.value_counts().index, df2.age.value_counts().values, 'o', color= 'purple')\n",
    "#plt.title(\"Age distribution\")\n",
    "#print(df2.age.value_counts())\n",
    "#plt.boxplot(x=df2.age.value_counts().index, vert=False)\n",
    "#plt.legend()\n",
    "plt.figure(figsize=(10,4))\n",
    "plt.title(\"Age distribution\")\n",
    "sns.boxplot(x='age', data=df2, linewidth=2.5)\n",
    "plt.xlabel(\"Age (years)\")"
   ]
  },
  {
   "cell_type": "code",
   "execution_count": 94,
   "metadata": {},
   "outputs": [
    {
     "data": {
      "text/plain": [
       "Text(0.5, 1.0, 'Portion of people who lives in certain types of settlement')"
      ]
     },
     "execution_count": 94,
     "metadata": {},
     "output_type": "execute_result"
    },
    {
     "data": {
      "image/png": "[encoded data removed]",
      "text/plain": [
       "<Figure size 800x1000 with 1 Axes>"
      ]
     },
     "metadata": {},
     "output_type": "display_data"
    }
   ],
   "source": [
    "plt.figure(figsize=(8, 10))\n",
    "plt.pie(df2.urban.value_counts().values, labels=df2.urban.value_counts().index)\n",
    "plt.title(\"Portion of people who lives in certain types of settlement\")"
   ]
  },
  {
   "cell_type": "code",
   "execution_count": 92,
   "metadata": {},
   "outputs": [
    {
     "data": {
      "text/plain": [
       "<matplotlib.legend.Legend at 0x1930bc6ee40>"
      ]
     },
     "execution_count": 92,
     "metadata": {},
     "output_type": "execute_result"
    },
    {
     "data": {
      "image/png": "[encoded data removed]",
      "text/plain": [
       "<Figure size 800x1000 with 1 Axes>"
      ]
     },
     "metadata": {},
     "output_type": "display_data"
    }
   ],
   "source": [
    "# Interesting question 1\n",
    "\n",
    "plt.figure(figsize=(8, 10))\n",
    "plt.pie(df2.hand.value_counts().values)\n",
    "plt.title(\"Portion of people's skilled hand\")\n",
    "plt.legend(df2.hand.value_counts().index)"
   ]
  },
  {
   "cell_type": "code",
   "execution_count": 99,
   "metadata": {},
   "outputs": [
    {
     "data": {
      "image/png": "[encoded data removed]",
      "text/plain": [
       "<Figure size 800x550 with 1 Axes>"
      ]
     },
     "metadata": {},
     "output_type": "display_data"
    }
   ],
   "source": [
    "# Now let's examine the different religions (hypothesis 3)\n",
    "sns.countplot(x='religion', data=df2, palette='Set1', hue='religion')\n",
    "\n",
    "plt.title('Count of different religions')\n",
    "plt.xlabel('Religion')\n",
    "plt.xticks(rotation=45)  # Rotar las etiquetas si es necesario\n",
    "plt.show()"
   ]
  },
  {
   "cell_type": "code",
   "execution_count": 100,
   "metadata": {},
   "outputs": [
    {
     "data": {
      "text/plain": [
       "Text(0.5, 1.0, 'Gender count')"
      ]
     },
     "execution_count": 100,
     "metadata": {},
     "output_type": "execute_result"
    },
    {
     "data": {
      "image/png": "[encoded data removed]",
      "text/plain": [
       "<Figure size 800x550 with 1 Axes>"
      ]
     },
     "metadata": {},
     "output_type": "display_data"
    }
   ],
   "source": [
    "# Interesting question 2\n",
    "sns.countplot(x='gender', data=df2, palette= 'Set1', hue='gender')\n",
    "plt.title(\"Gender count\")"
   ]
  },
  {
   "cell_type": "markdown",
   "metadata": {},
   "source": [
    "Training some model to get knowledge using the gender as a feature, will produce significant errors since the data is not balanced"
   ]
  },
  {
   "cell_type": "code",
   "execution_count": 97,
   "metadata": {},
   "outputs": [
    {
     "data": {
      "text/plain": [
       "<Axes: title={'center': 'Gender distributions per age'}, xlabel='gender', ylabel='age'>"
      ]
     },
     "execution_count": 97,
     "metadata": {},
     "output_type": "execute_result"
    },
    {
     "data": {
      "image/png": "[encoded data removed]",
      "text/plain": [
       "<Figure size 800x550 with 1 Axes>"
      ]
     },
     "metadata": {},
     "output_type": "display_data"
    }
   ],
   "source": [
    "# Interesting question 2\n",
    "plt.title(\"Gender distributions per age\")\n",
    "sns.violinplot(x='gender', y='age', data=df2, palette='Set2', hue='gender')"
   ]
  },
  {
   "cell_type": "markdown",
   "metadata": {},
   "source": [
    "Using this plot we can see not only the distribution but also the density of the data\n",
    "For example, from this graph we have that males are older (due to the density of the violin) than the females questioned"
   ]
  }
 ],
 "metadata": {
  "kernelspec": {
   "display_name": "miEntorno",
   "language": "python",
   "name": "python3"
  },
  "language_info": {
   "codemirror_mode": {
    "name": "ipython",
    "version": 3
   },
   "file_extension": ".py",
   "mimetype": "text/x-python",
   "name": "python",
   "nbconvert_exporter": "python",
   "pygments_lexer": "ipython3",
   "version": "3.12.5"
  }
 },
 "nbformat": 4,
 "nbformat_minor": 2
}
